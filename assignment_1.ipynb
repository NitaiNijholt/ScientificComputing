{
 "cells": [
  {
   "cell_type": "markdown",
   "metadata": {},
   "source": [
    "# Exercise Set 1\n",
    "## Title\n",
    "### Scientific Computing\n",
    "Nitai Nijholt (12709018)\n",
    "\n",
    "Pablo Rodriguez Alves (15310191)"
   ]
  },
  {
   "cell_type": "code",
   "execution_count": 57,
   "metadata": {},
   "outputs": [],
   "source": [
    "from math import erfc\n",
    "import numpy as np\n",
    "import matplotlib.pyplot as plt\n",
    "import matplotlib.animation as animation"
   ]
  },
  {
   "cell_type": "markdown",
   "metadata": {},
   "source": [
    "## 1. Vibrating string\n",
    "\n",
    "### A. Discretize the wave equation\n",
    "And write it in a form suitable for implementing in a computer program"
   ]
  },
  {
   "cell_type": "code",
   "execution_count": null,
   "metadata": {},
   "outputs": [],
   "source": []
  },
  {
   "cell_type": "markdown",
   "metadata": {},
   "source": [
    "### B. Implement time stepping\n",
    "And determine the time development of the string\n",
    "And plot the results at several times in the same figure"
   ]
  },
  {
   "cell_type": "markdown",
   "metadata": {},
   "source": []
  },
  {
   "cell_type": "markdown",
   "metadata": {},
   "source": [
    "### C. Make an animated plot of the time development"
   ]
  },
  {
   "cell_type": "code",
   "execution_count": null,
   "metadata": {},
   "outputs": [],
   "source": []
  },
  {
   "cell_type": "markdown",
   "metadata": {},
   "source": [
    "## 2. The Time Dependent Diffusion Equation\n",
    "\n",
    "### D. Determine the equation to use at the boundaries of the domain.\n",
    "Clearly show the ranges of the indices of the grid. A figure is extremely helpful for figuring this out."
   ]
  },
  {
   "cell_type": "code",
   "execution_count": 87,
   "metadata": {},
   "outputs": [],
   "source": [
    "def is_solution_stable(D,dt,dx):\n",
    "    print((4*dt*D)/(dx**2))\n",
    "    return (4*dt*D)/(dx**2) <= 1\n",
    "\n",
    "def is_point_in_bounds(c,i,j):\n",
    "    imax,jmax = c.shape\n",
    "    return bool(i >= 0 and i < imax and j >= 0 and j < jmax)\n",
    "\n",
    "def get_neighboors(c,i,j):\n",
    "    # Get neighboors if possible\n",
    "    # Later on additional conditions will be added here for sinks and so on...\n",
    "    c1 = c[i+1,j] if is_point_in_bounds(c,i+1,j) else 0\n",
    "    c2 = c[i-1,j] if is_point_in_bounds(c,i-1,j) else 0\n",
    "    c3 = c[i,j+1] if is_point_in_bounds(c,i,j+1) else 0\n",
    "    c4 = c[i,j-1] if is_point_in_bounds(c,i,j-1) else 0\n",
    "\n",
    "    return c1,c2,c3,c4\n",
    "\n",
    "def start_grid(N):\n",
    "    c = np.zeros((N,N))\n",
    "    \n",
    "    # Left column\n",
    "    c[:,0] = 0\n",
    "\n",
    "    # Right column same as left\n",
    "    #c[:,N-1] = c[:,0]\n",
    "\n",
    "    # Top row\n",
    "    c[0,:] = 1\n",
    "\n",
    "    # Bottom row\n",
    "    #c[N-1,:] = 0\n",
    "    return c\n",
    "\n",
    "def update(c,dx,dt,D,N):\n",
    "    # Make a copy to avoid overwriting data early!\n",
    "    c_k = c.copy()\n",
    "    \n",
    "    # Go over every point\n",
    "    for i,j in np.ndindex(c.shape):\n",
    "        # Boundary cases: top row, right column and bottom row\n",
    "        if i==0:\n",
    "            c[i,j] = 1 \n",
    "        if j==(N-1):\n",
    "            c[i,j] = c[i,0] # TODO: Check if this is correct\n",
    "        if i==(N-1):             \n",
    "            c[i,j] = 0\n",
    "        else:\n",
    "            # Other cases\n",
    "            c1,c2,c3,c4 = get_neighboors(c_k,i,j)\n",
    "            c[i,j] = c_k[i,j] + (dt*D)*(c1+c2+c3+c4-4*c_k[i,j])/(dx**2)\n",
    "    return c\n",
    "\n",
    "\n",
    "def plot_opinion_grid_evolution(c_sim, interval=250, save=False):\n",
    "    plt.figure(figsize=(6, 6), layout='tight')\n",
    "\n",
    "    def update(t):\n",
    "        plt.clf()\n",
    "        plt.imshow(c_sim[t]*-1, vmin=-1, vmax=1)\n",
    "        plt.axis(False)\n",
    "        plt.grid(False)\n",
    "        return plt\n",
    "\n",
    "\n",
    "    anim = animation.FuncAnimation(plt.gcf(), update, frames=range(\n",
    "            0, c_sim.shape[0]), interval=interval)\n",
    "\n",
    "    if save:\n",
    "        writergif = animation.PillowWriter(fps=30)\n",
    "        anim.save('sim.gif', dpi=300, writer=writergif)\n",
    "\n",
    "\n"
   ]
  },
  {
   "cell_type": "code",
   "execution_count": 88,
   "metadata": {},
   "outputs": [
    {
     "name": "stdout",
     "output_type": "stream",
     "text": [
      "0.3999999999999999\n"
     ]
    }
   ],
   "source": [
    "# Define global parameters\n",
    "XMAX,YMAX = 1,1\n",
    "N = 10\n",
    "D = 1\n",
    "TIME = 0.050\n",
    "dt = 0.001\n",
    "dx = 1/N\n",
    "\n",
    "# Ensure our parameters create a stable solution\n",
    "assert is_solution_stable(D,dt,dx), f'Solution is not stable, check your parameters!'\n",
    "\n",
    "# Create grid\n",
    "c = start_grid(N)\n",
    "\n",
    "# Time vector\n",
    "t_vector = np.linspace(0,TIME,int(TIME/dt))\n",
    "\n",
    "\n",
    "c_sim = np.zeros((t_vector.size,N,N))\n",
    "\n",
    "for t in range(int(TIME/dt)):\n",
    "    c = update(c,dx,dt,D,N)\n",
    "    c_sim[t,:,:] = c\n",
    "\n",
    "\n",
    "\n"
   ]
  },
  {
   "cell_type": "markdown",
   "metadata": {},
   "source": [
    "Write a program for the simulation of the two-dimensional time dependent diffusion eq.\n",
    "write your data to file "
   ]
  },
  {
   "cell_type": "markdown",
   "metadata": {},
   "source": [
    "### E. Test the correctness of your simulation.\n",
    "Compare to the analytic solutions, plot c(y) for different times."
   ]
  },
  {
   "cell_type": "code",
   "execution_count": null,
   "metadata": {},
   "outputs": [],
   "source": [
    "def c_analytical(y,t,D):\n",
    "    inside = 1-y+2\n",
    "    return 2"
   ]
  },
  {
   "cell_type": "markdown",
   "metadata": {},
   "source": [
    "### F. Plot the results\n",
    "Show the 2D domain, with a color representing the concentration at each points"
   ]
  },
  {
   "cell_type": "code",
   "execution_count": 1,
   "metadata": {},
   "outputs": [],
   "source": [
    "times = [0,0.001,0.01,0.1,1]\n",
    "\n",
    "\n",
    "for time in times:\n",
    "    # Make plot!\n",
    "    pass"
   ]
  },
  {
   "cell_type": "markdown",
   "metadata": {},
   "source": [
    "### G. Make an animated plot until equilibrium"
   ]
  },
  {
   "cell_type": "code",
   "execution_count": 90,
   "metadata": {},
   "outputs": [],
   "source": [
    "# Animation (saved as sim.gif, takes some time)\n",
    "plot_opinion_grid_evolution(c_sim, interval=250, save=True)"
   ]
  },
  {
   "cell_type": "markdown",
   "metadata": {},
   "source": [
    "## 1.3 Time Independent ...\n",
    "\n",
    "### H. Implement the Jacobi iteration, the Gauss-Seidel method and SOR.\n",
    "Try N= 50. Test the methods by comparing the result to the analytical result in eq.5"
   ]
  },
  {
   "cell_type": "code",
   "execution_count": null,
   "metadata": {},
   "outputs": [],
   "source": [
    "# Functions go here"
   ]
  },
  {
   "cell_type": "code",
   "execution_count": null,
   "metadata": {},
   "outputs": [],
   "source": [
    "N = 50\n",
    "\n",
    "# Test functions here"
   ]
  },
  {
   "cell_type": "markdown",
   "metadata": {},
   "source": [
    "### I. Show how the convergence measure δ in eq. (14) depends on the number of iterations k for each of the methods"
   ]
  },
  {
   "cell_type": "code",
   "execution_count": null,
   "metadata": {},
   "outputs": [],
   "source": []
  },
  {
   "cell_type": "markdown",
   "metadata": {},
   "source": [
    "### J. Find the optimal w of SOC. How does the optimal w value depend on N?"
   ]
  },
  {
   "cell_type": "code",
   "execution_count": null,
   "metadata": {},
   "outputs": [],
   "source": []
  },
  {
   "cell_type": "markdown",
   "metadata": {},
   "source": [
    "### K. Add sinks to the domain"
   ]
  },
  {
   "cell_type": "code",
   "execution_count": 2,
   "metadata": {},
   "outputs": [],
   "source": [
    "# Define region in 2D space\n",
    "# Create 2D matrix of gridsize with 1s on the points that are within the sinks\n",
    "# Update the function to return concentration 0 if the point of that matrix has 1\n",
    "\n",
    "# Simulate normally"
   ]
  },
  {
   "cell_type": "markdown",
   "metadata": {},
   "source": [
    "## Optional: Incorporate insulating material"
   ]
  },
  {
   "cell_type": "code",
   "execution_count": 3,
   "metadata": {},
   "outputs": [],
   "source": [
    "# Concentration 0 but not considered for computations\n",
    "# Create 2D matrix of points that are insulating material\n",
    "# Update the function to ignore points of that grid when computing concentrations!"
   ]
  }
 ],
 "metadata": {
  "kernelspec": {
   "display_name": "Python 3",
   "language": "python",
   "name": "python3"
  },
  "language_info": {
   "codemirror_mode": {
    "name": "ipython",
    "version": 3
   },
   "file_extension": ".py",
   "mimetype": "text/x-python",
   "name": "python",
   "nbconvert_exporter": "python",
   "pygments_lexer": "ipython3",
   "version": "3.10.6"
  }
 },
 "nbformat": 4,
 "nbformat_minor": 2
}
