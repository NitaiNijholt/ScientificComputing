{
 "cells": [
  {
   "cell_type": "markdown",
   "metadata": {},
   "source": [
    "# Assignment 2\n",
    "### Scientific Computing\n",
    "\n",
    "Nitai Nijholt (12709018)\n",
    "\n",
    "Pablo Rodriguez Alves (15310191)"
   ]
  },
  {
   "cell_type": "code",
   "execution_count": 168,
   "metadata": {},
   "outputs": [],
   "source": [
    "import numpy as np\n",
    "import matplotlib\n",
    "import matplotlib.pyplot as plt\n",
    "from matplotlib import animation\n",
    "\n",
    "from math import floor\n",
    "from time import sleep"
   ]
  },
  {
   "cell_type": "code",
   "execution_count": 169,
   "metadata": {},
   "outputs": [],
   "source": [
    "# Module with diffusion code from Assignment 1\n",
    "from diffusion_module import update_sor"
   ]
  },
  {
   "cell_type": "code",
   "execution_count": 170,
   "metadata": {},
   "outputs": [],
   "source": [
    "np.random.seed(42)"
   ]
  },
  {
   "cell_type": "markdown",
   "metadata": {},
   "source": [
    "## 1. Diffusion Limited Aggregation"
   ]
  },
  {
   "cell_type": "markdown",
   "metadata": {},
   "source": [
    "### A.1 Implement growth model"
   ]
  },
  {
   "cell_type": "code",
   "execution_count": 5,
   "metadata": {},
   "outputs": [],
   "source": [
    "# Global parameters\n",
    "N = 50\n",
    "ETA = 1\n",
    "STEPS = 100\n",
    "CONCENTRATION_SOLVING_THRESHOLD = 0.001 # For concentration solving\n",
    "\n",
    "# Flags\n",
    "SHOW_STARTING_CONDITIONS = True\n",
    "SAVE_CLUSTER_EVOLUTION = True"
   ]
  },
  {
   "cell_type": "code",
   "execution_count": 6,
   "metadata": {},
   "outputs": [],
   "source": [
    "# Innitialization\n",
    "# of concentrations, cluster and candidate growth probabilities\n",
    "concentrations = np.zeros((N,N))\n",
    "cluster = np.zeros((N,N))\n",
    "candidates = np.zeros((N,N))\n",
    "\n",
    "## 1. Concentration is set to analytical result\n",
    "for i in range(N):\n",
    "    concentrations[i,:] = 1 - i/(N-1)\n",
    "\n",
    "## 2. Innitial cluster is set as a small square at the bottom\n",
    "# If we want a 2x2 square, use this: cluster[N-2:N,int(N/2-1):int(N/2+1)] = 1\n",
    "cluster[N-1,int(N/2)] = 1"
   ]
  },
  {
   "cell_type": "code",
   "execution_count": 7,
   "metadata": {},
   "outputs": [
    {
     "name": "stderr",
     "output_type": "stream",
     "text": [
      "C:\\Users\\Pablo\\AppData\\Local\\Temp\\ipykernel_19892\\2991715646.py:12: MatplotlibDeprecationWarning: You are modifying the state of a globally registered colormap. This has been deprecated since 3.3 and in 3.6, you will not be able to modify a registered colormap in-place. To remove this warning, you can make a copy of the colormap first. cmap = mpl.cm.get_cmap(\"GnBu\").copy()\n",
      "  cmap.set_bad(color='black')\n"
     ]
    },
    {
     "data": {
      "image/png": "[encoded data removed]",
      "text/plain": [
       "<Figure size 300x300 with 2 Axes>"
      ]
     },
     "metadata": {},
     "output_type": "display_data"
    }
   ],
   "source": [
    "# Plotting of starting conditions\n",
    "# Colorbar settings based on:\n",
    "# https://stackoverflow.com/questions/37719304/python-imshow-set-certain-value-to-defined-color\n",
    "\n",
    "if SHOW_STARTING_CONDITIONS:\n",
    "    # Combine concentrations and cluster for showing\n",
    "    lattice = concentrations + cluster\n",
    "    masked_array = np.ma.masked_where(cluster == 1, lattice)\n",
    "    \n",
    "    # Select the colormap and the color for the exception values\n",
    "    cmap = matplotlib.cm.GnBu\n",
    "    cmap.set_bad(color='black')\n",
    "    \n",
    "    # Plot the total lattice\n",
    "    # For exporting this to report, we should add dpi=400\n",
    "    plt.figure(figsize=(3,3))\n",
    "    plt.imshow(masked_array, cmap=cmap)\n",
    "    plt.title('Starting cluster and concentrations')\n",
    "    plt.colorbar(fraction=0.0455, pad=0.05)\n",
    "    plt.tight_layout()\n",
    "    plt.show()"
   ]
  },
  {
   "cell_type": "code",
   "execution_count": 1,
   "metadata": {},
   "outputs": [],
   "source": [
    "# SOC solving until stop_thresold\n",
    "def solve_SOR(concentrations,cluster,stop_thresold,N):\n",
    "\n",
    "    # TODO: Move this to function parameters\n",
    "    MAX_ITERATIONS = 20\n",
    "\n",
    "    h = 1/(N + 1)\n",
    "    w= ω = 2/(1 + np.sin(np.pi * h))\n",
    "\n",
    "    # At the top we have c=1, and c=0 at the bottom\n",
    "    # TODO: Check if this is the case\n",
    "    concentrations[0,:] = 1\n",
    "    concentrations[N-1,:] = 0\n",
    "    \n",
    "    # Where we have our cluster it behaves as insulating material\n",
    "    iteration = 1\n",
    "    old_c = concentrations\n",
    "\n",
    "    while(iteration < MAX_ITERATIONS):\n",
    "        # TODO: Call sor_updated\n",
    "        new_c = update_sor(old_c,cluster,N,w)        \n",
    "\n",
    "        # TODO: Compute difference in concent.\n",
    "        delta = np.max(np.abs(new_c - old_c))\n",
    "\n",
    "        # TODO: Check if we change less than stop_thresold\n",
    "        if delta < stop_thresold:\n",
    "            break\n",
    "        else:\n",
    "            old_c = new_c\n",
    "            iteration +=1\n",
    "        \n",
    "\n",
    "\n",
    "    # TODO: Implement as done in assignment 1\n",
    "    return new_c\n",
    "\n",
    "def is_neighboor_in_bounds(neighboor,N):\n",
    "    x,y = neighboor\n",
    "    return True if (x >= 0 and x < N and y >= 0 and y < N) else False\n",
    "\n",
    "# Locate growth candidates\n",
    "def get_candidates(cluster,N):\n",
    "    # Reset candidates\n",
    "    candidates = np.zeros((N,N))\n",
    "\n",
    "    # Get neighboor cells of cluster\n",
    "    cluster_cell_coordinates = np.argwhere(cluster != 0)\n",
    "\n",
    "    for cell in cluster_cell_coordinates:\n",
    "        # Check neighboors        \n",
    "        x,y = cell\n",
    "\n",
    "        neighboors = [[x+1,y],[x-1,y],[x,y+1],[x,y-1]]\n",
    "\n",
    "        for neighboor in neighboors:\n",
    "            xn,yn = neighboor\n",
    "            if is_neighboor_in_bounds(neighboor,N):\n",
    "                if cluster[xn,yn] != 1:\n",
    "                    candidates[xn,yn] = 1\n",
    "                    \n",
    "        # add as candidate!\n",
    "\n",
    "    return candidates\n",
    "\n",
    "def get_candidate_probabilities(candidates,concentrations,N,eta):\n",
    "    # Innitialize matrix for probabilities\n",
    "    probability_growth = np.zeros((N,N))\n",
    "\n",
    "    candidates_coordinates = np.argwhere(candidates != 0)\n",
    "\n",
    "    # Get sum of concentrations at candidate points\n",
    "    candidate_c_sum = np.sum(np.power(concentrations[candidates != 0],eta))    \n",
    "    \n",
    "    # Old way\n",
    "    #candidate_c_sum = 0\n",
    "    #for cell in candidates_coordinates:\n",
    "    #    x,y = cell\n",
    "    #    candidate_c_sum += concentrations[x,y]**eta\n",
    "\n",
    "    # Iterate all candidates!\n",
    "    # TODO: Optimize This could again be done with numpy syntax in one line\n",
    "    for cell in candidates_coordinates:\n",
    "        x,y = cell\n",
    "        probability_growth[x,y] = np.power(concentrations[x,y],eta) / candidate_c_sum\n",
    "\n",
    "    return probability_growth\n",
    "\n",
    "def coordinates_chosen_one(candidates,probability_growth,N):\n",
    "    # Get candidates in 1D and probabilities in 1D\n",
    "    cands = np.arange(0, N**2)\n",
    "\n",
    "    probs = probability_growth.ravel()\n",
    "\n",
    "    choice = np.random.choice(cands,p=probs)\n",
    "    \n",
    "    #print(choice)\n",
    "    # Get coordinates of element choice\n",
    "    \n",
    "    # Get coordinate\n",
    "    x = floor(choice/N)\n",
    "    y = choice % N\n",
    "    return x,y\n",
    "\n",
    "# Choose one candidate\n",
    "# Update the cluster with that value\n"
   ]
  },
  {
   "cell_type": "code",
   "execution_count": 10,
   "metadata": {},
   "outputs": [],
   "source": [
    "def update(cluster,concentrations,stop_thresold,N):\n",
    "    # 1. Solve time-indep Eq (like Laplace)\n",
    "    ## 1.1 Make concentrations at cluster be 0\n",
    "    concentrations[cluster==1] = 0\n",
    "\n",
    "    ## 1.2 Solve concentrations!\n",
    "    concentrations = solve_SOR(concentrations,cluster,stop_thresold,N)\n",
    "    \n",
    "    # 2. Locate growth candidates around cluster\n",
    "    candidates = get_candidates(cluster,N)\n",
    "    probability_growth = get_candidate_probabilities(candidates,concentrations,N,ETA)\n",
    "\n",
    "    \"\"\"\n",
    "    print(candidates)\n",
    "    print(probability_growth)\n",
    "    plt.imshow(probability_growth)\n",
    "    plt.show()\n",
    "    \"\"\"\n",
    "\n",
    "    # 3. A single candidate is added with probability p_g\n",
    "    x,y = coordinates_chosen_one(candidates,probability_growth,N)\n",
    "    \n",
    "    # And then it is added to the cluster\n",
    "    cluster[x,y] = 1\n",
    "\n",
    "    return cluster,concentrations,probability_growth\n",
    "\n"
   ]
  },
  {
   "cell_type": "code",
   "execution_count": 12,
   "metadata": {},
   "outputs": [],
   "source": [
    "# Repeat from 1 for a large number of growh_steps\n",
    "\n",
    "if SAVE_CLUSTER_EVOLUTION:\n",
    "    # Prepare to save all clusters\n",
    "    total_clusters = np.zeros((N,N,STEPS))\n",
    "    total_concentrations = np.zeros((N,N,STEPS))\n",
    "    total_probability_growth = np.zeros((N,N,STEPS))\n",
    "    # Save starting cluster\n",
    "    total_clusters[:,:,0] = cluster\n",
    "\n",
    "# Main simulation loop\n",
    "for step in range(STEPS-1):\n",
    "    \n",
    "    cluster,concentrations,probability_growth = update(cluster,concentrations,CONCENTRATION_SOLVING_THRESHOLD,N)\n",
    "\n",
    "    if SAVE_CLUSTER_EVOLUTION:\n",
    "        total_clusters[:,:,step+1] = cluster\n",
    "        total_concentrations[:,:,step+1] = concentrations\n",
    "        total_probability_growth[:,:,step+1] = probability_growth"
   ]
  },
  {
   "cell_type": "code",
   "execution_count": 14,
   "metadata": {},
   "outputs": [],
   "source": [
    "# Save results\n",
    "if SAVE_CLUSTER_EVOLUTION:\n",
    "    np.save(f'DLA_clusters_{N}_{STEPS}_{CONCENTRATION_SOLVING_THRESHOLD}.npy',total_clusters)\n",
    "    np.save(f'DLA_concents_{N}_{STEPS}_{CONCENTRATION_SOLVING_THRESHOLD}.npy',total_concentrations)\n",
    "    np.save(f'DLA_probabil_{N}_{STEPS}_{CONCENTRATION_SOLVING_THRESHOLD}.npy',total_probability_growth)"
   ]
  },
  {
   "cell_type": "code",
   "execution_count": 15,
   "metadata": {},
   "outputs": [],
   "source": [
    "# Load results\n",
    "total_clusters = np.load(f'DLA_clusters_{N}_{STEPS}_{CONCENTRATION_SOLVING_THRESHOLD}.npy')\n",
    "total_concentrations = np.load(f'DLA_concents_{N}_{STEPS}_{CONCENTRATION_SOLVING_THRESHOLD}.npy')\n",
    "total_probability_growth = np.load(f'DLA_probabil_{N}_{STEPS}_{CONCENTRATION_SOLVING_THRESHOLD}.npy')"
   ]
  },
  {
   "cell_type": "code",
   "execution_count": 14,
   "metadata": {},
   "outputs": [
    {
     "name": "stderr",
     "output_type": "stream",
     "text": [
      "C:\\Users\\Pablo\\AppData\\Local\\Temp\\ipykernel_55272\\540619433.py:7: MatplotlibDeprecationWarning: You are modifying the state of a globally registered colormap. This has been deprecated since 3.3 and in 3.6, you will not be able to modify a registered colormap in-place. To remove this warning, you can make a copy of the colormap first. cmap = mpl.cm.get_cmap(\"GnBu\").copy()\n",
      "  cmap.set_bad(color='black')\n"
     ]
    },
    {
     "data": {
      "image/png": "[encoded data removed]",
      "text/plain": [
       "<Figure size 640x480 with 2 Axes>"
      ]
     },
     "metadata": {},
     "output_type": "display_data"
    }
   ],
   "source": [
    "t=80\n",
    "lattice = total_concentrations[:,:,t] + total_clusters[:,:,t]\n",
    "masked_array = np.ma.masked_where(total_clusters[:,:,t] == 1, lattice)\n",
    "\n",
    "# Select the colormap and the color for the exception values\n",
    "cmap = matplotlib.cm.GnBu\n",
    "cmap.set_bad(color='black')        \n",
    "\n",
    "# Plot the total lattice\n",
    "plt.imshow(masked_array, cmap=cmap)\n",
    "plt.title(f't={t}')\n",
    "plt.colorbar(fraction=0.0455, pad=0.05)\n",
    "plt.tight_layout()"
   ]
  },
  {
   "cell_type": "code",
   "execution_count": 147,
   "metadata": {},
   "outputs": [],
   "source": [
    "# Function for animation of cluster and concentration, based on Assignment 1\n",
    "def save_animation(clusters,concentrations, interval=250,fps=10,name='animation.mp4'):\n",
    "        \n",
    "    plt.figure(figsize=(3, 3), layout='tight')\n",
    "\n",
    "    def update(t):\n",
    "        plt.clf()\n",
    "        \n",
    "        lattice = concentrations[:,:,t] + clusters[:,:,t]\n",
    "        masked_array = np.ma.masked_where(clusters[:,:,t] == 1, lattice)\n",
    "        \n",
    "        # Select the colormap and the color for the exception values\n",
    "        cmap = matplotlib.cm.GnBu\n",
    "        cmap.set_bad(color='black')        \n",
    "\n",
    "        # Plot the total lattice\n",
    "        plt.imshow(masked_array, cmap=cmap)\n",
    "        plt.title(f't={t}')\n",
    "        plt.colorbar(fraction=0.0455, pad=0.05)\n",
    "        plt.tight_layout()\n",
    "        return plt\n",
    "\n",
    "    anim = animation.FuncAnimation(plt.gcf(), update, frames=range(\n",
    "            0, clusters.shape[2]), interval=interval)\n",
    "\n",
    "    writer = animation.FFMpegWriter(fps=fps)\n",
    "    anim.save(name, writer = writer)"
   ]
  },
  {
   "cell_type": "code",
   "execution_count": 28,
   "metadata": {},
   "outputs": [],
   "source": [
    "# Function for animation of growth probability\n",
    "def save_animation_probability(clusters,growth_probs, interval=250,fps=10,name='animation_probability.mp4',normalize=False):\n",
    "        \n",
    "    plt.figure(figsize=(3, 3), layout='tight')\n",
    "\n",
    "    def update(t):\n",
    "        plt.clf()\n",
    "        \n",
    "        lattice = growth_probs[:,:,t] + clusters[:,:,t]\n",
    "        masked_array = np.ma.masked_where(clusters[:,:,t] == 1, lattice)\n",
    "        \n",
    "        # Select the colormap and the color for the exception values\n",
    "        cmap = matplotlib.cm.GnBu\n",
    "        cmap.set_bad(color='black')        \n",
    "\n",
    "        # Plot the total lattice\n",
    "        if normalize:\n",
    "            masked_array = masked_array / np.max(growth_probs[:,:,t])\n",
    "\n",
    "        plt.imshow(masked_array, cmap=cmap, vmin=0, vmax=1)\n",
    "        plt.title(f't={t}')\n",
    "        plt.colorbar(fraction=0.0455, pad=0.05)\n",
    "        plt.tight_layout()\n",
    "        return plt\n",
    "\n",
    "    anim = animation.FuncAnimation(plt.gcf(), update, frames=range(\n",
    "            0, clusters.shape[2]), interval=interval)\n",
    "\n",
    "    writer = animation.FFMpegWriter(fps=fps)\n",
    "    anim.save(name, writer = writer)"
   ]
  },
  {
   "cell_type": "code",
   "execution_count": 22,
   "metadata": {},
   "outputs": [
    {
     "ename": "NameError",
     "evalue": "name 'save_animation' is not defined",
     "output_type": "error",
     "traceback": [
      "\u001b[1;31m---------------------------------------------------------------------------\u001b[0m",
      "\u001b[1;31mNameError\u001b[0m                                 Traceback (most recent call last)",
      "Cell \u001b[1;32mIn[22], line 1\u001b[0m\n\u001b[1;32m----> 1\u001b[0m \u001b[43msave_animation\u001b[49m(total_clusters,total_concentrations, interval\u001b[38;5;241m=\u001b[39m\u001b[38;5;241m250\u001b[39m,fps\u001b[38;5;241m=\u001b[39m\u001b[38;5;241m30\u001b[39m,name\u001b[38;5;241m=\u001b[39m\u001b[38;5;124mf\u001b[39m\u001b[38;5;124m'\u001b[39m\u001b[38;5;124manimation_\u001b[39m\u001b[38;5;132;01m{\u001b[39;00mN\u001b[38;5;132;01m}\u001b[39;00m\u001b[38;5;124m_\u001b[39m\u001b[38;5;132;01m{\u001b[39;00mSTEPS\u001b[38;5;132;01m}\u001b[39;00m\u001b[38;5;124m_\u001b[39m\u001b[38;5;132;01m{\u001b[39;00mCONCENTRATION_SOLVING_THRESHOLD\u001b[38;5;132;01m}\u001b[39;00m\u001b[38;5;124m.mp4\u001b[39m\u001b[38;5;124m'\u001b[39m,normalize\u001b[38;5;241m=\u001b[39m\u001b[38;5;28;01mTrue\u001b[39;00m)\n",
      "\u001b[1;31mNameError\u001b[0m: name 'save_animation' is not defined"
     ]
    }
   ],
   "source": [
    "save_animation(total_clusters,total_concentrations, interval=250,fps=30,name=f'animation_{N}_{STEPS}_{CONCENTRATION_SOLVING_THRESHOLD}.mp4')"
   ]
  },
  {
   "cell_type": "code",
   "execution_count": 29,
   "metadata": {},
   "outputs": [
    {
     "name": "stderr",
     "output_type": "stream",
     "text": [
      "C:\\Users\\Pablo\\AppData\\Local\\Temp\\ipykernel_41084\\2845282845.py:14: MatplotlibDeprecationWarning: You are modifying the state of a globally registered colormap. This has been deprecated since 3.3 and in 3.6, you will not be able to modify a registered colormap in-place. To remove this warning, you can make a copy of the colormap first. cmap = mpl.cm.get_cmap(\"GnBu\").copy()\n",
      "  cmap.set_bad(color='black')\n"
     ]
    },
    {
     "data": {
      "image/png": "[encoded data removed]",
      "text/plain": [
       "<Figure size 300x300 with 2 Axes>"
      ]
     },
     "metadata": {},
     "output_type": "display_data"
    }
   ],
   "source": [
    "# Growth probability animation\n",
    "save_animation_probability(total_clusters,total_probability_growth, interval=250,fps=30,name=f'animation_prob_{N}_{STEPS}_{CONCENTRATION_SOLVING_THRESHOLD}.mp4',normalize=True)\n",
    "      "
   ]
  },
  {
   "cell_type": "code",
   "execution_count": null,
   "metadata": {},
   "outputs": [],
   "source": []
  },
  {
   "cell_type": "markdown",
   "metadata": {},
   "source": [
    "### A.2 Run a number of growth simulations"
   ]
  },
  {
   "cell_type": "code",
   "execution_count": null,
   "metadata": {},
   "outputs": [],
   "source": [
    "# TODO\n",
    "\n",
    "ETAS = [0,0.5,1,2,3,5,10,20,50,100]\n"
   ]
  },
  {
   "cell_type": "markdown",
   "metadata": {},
   "source": [
    "### A.3 Investigate the influence of the $\\eta$ parameter"
   ]
  },
  {
   "cell_type": "code",
   "execution_count": 59,
   "metadata": {},
   "outputs": [],
   "source": [
    "# TODO Twist c_ij to eta\n",
    "# Given single value of cluster\n",
    "# Plot probabilities for different eta values!\n",
    "#N = 50\n",
    "#STEPS = 100\n",
    "#CONCENTRATION_SOLVING_THRESHOLD = 0.001\n",
    "\n",
    "N = 100\n",
    "STEPS = 500\n",
    "CONCENTRATION_SOLVING_THRESHOLD = 0.001\n",
    "\n",
    "total_clusters = np.load(f'DLA_clusters_{N}_{STEPS}_{CONCENTRATION_SOLVING_THRESHOLD}.npy')\n",
    "total_concentrations = np.load(f'DLA_concents_{N}_{STEPS}_{CONCENTRATION_SOLVING_THRESHOLD}.npy')\n",
    "total_probability_growth = np.load(f'DLA_probabil_{N}_{STEPS}_{CONCENTRATION_SOLVING_THRESHOLD}.npy')\n"
   ]
  },
  {
   "cell_type": "code",
   "execution_count": 60,
   "metadata": {},
   "outputs": [],
   "source": [
    "t = 25\n",
    "\n",
    "cluster = total_clusters[:,:,t]\n",
    "concentrations = total_concentrations[:,:,t]\n",
    "probability_growth = total_probability_growth[:,:,t]"
   ]
  },
  {
   "cell_type": "code",
   "execution_count": 111,
   "metadata": {},
   "outputs": [],
   "source": [
    "ETAS = [0,1,10,100]\n",
    "\n",
    "candidates = get_candidates(cluster,N)\n",
    "pgrowth_totals = np.zeros((N,N,len(ETAS)))\n",
    "\n",
    "for i in range(len(ETAS)):\n",
    "    eta = ETAS[i]\n",
    "    pgrowth_totals[:,:,i] = get_candidate_probabilities(candidates,concentrations,N,eta)"
   ]
  },
  {
   "cell_type": "code",
   "execution_count": 112,
   "metadata": {},
   "outputs": [
    {
     "name": "stderr",
     "output_type": "stream",
     "text": [
      "C:\\Users\\Pablo\\AppData\\Local\\Temp\\ipykernel_55272\\1227473321.py:13: MatplotlibDeprecationWarning: You are modifying the state of a globally registered colormap. This has been deprecated since 3.3 and in 3.6, you will not be able to modify a registered colormap in-place. To remove this warning, you can make a copy of the colormap first. cmap = mpl.cm.get_cmap(\"cividis\").copy()\n",
      "  cmap.set_bad(color='black')\n"
     ]
    },
    {
     "data": {
      "image/png": "[encoded data removed]",
      "text/plain": [
       "<Figure size 300x300 with 2 Axes>"
      ]
     },
     "metadata": {},
     "output_type": "display_data"
    },
    {
     "data": {
      "image/png": "[encoded data removed]",
      "text/plain": [
       "<Figure size 300x300 with 2 Axes>"
      ]
     },
     "metadata": {},
     "output_type": "display_data"
    },
    {
     "data": {
      "image/png": "[encoded data removed]",
      "text/plain": [
       "<Figure size 300x300 with 2 Axes>"
      ]
     },
     "metadata": {},
     "output_type": "display_data"
    },
    {
     "data": {
      "image/png": "[encoded data removed]",
      "text/plain": [
       "<Figure size 300x300 with 2 Axes>"
      ]
     },
     "metadata": {},
     "output_type": "display_data"
    }
   ],
   "source": [
    "# Plot normalized growth probabilities for all etas!\n",
    "\n",
    "for i in range(len(ETAS)):\n",
    "\n",
    "    plt.figure(figsize=(3, 3), layout='tight')\n",
    "    #plt.clf()\n",
    "    \n",
    "    lattice = pgrowth_totals[:,:,i] + cluster\n",
    "    masked_array = np.ma.masked_where(cluster == 1, lattice)\n",
    "    \n",
    "    # Select the colormap and the color for the exception values\n",
    "    cmap = matplotlib.cm.cividis\n",
    "    cmap.set_bad(color='black')        \n",
    "\n",
    "    # Plot the total lattice\n",
    "    #if normalize:\n",
    "    \n",
    "    # Normalize array!!!\n",
    "    masked_array = masked_array / np.max(pgrowth_totals[:,:,i])\n",
    "    \n",
    "    #print(plt.gca().get_ylim())\n",
    "    \n",
    "    plt.imshow(masked_array, cmap=cmap, vmin=0, vmax=1)\n",
    "\n",
    "    plt.xlim([30,70])\n",
    "    plt.ylim([99,60])\n",
    " \n",
    "\n",
    "#extent=[-4.50,4.50,0,3]\n",
    "    plt.title(f'p_gnorm, eta={ETAS[i]}')\n",
    "    plt.colorbar(fraction=0.0455, pad=0.05)\n",
    "    plt.tight_layout()"
   ]
  },
  {
   "cell_type": "markdown",
   "metadata": {},
   "source": [
    "Easy to see that eta=0 means equiprobability in all candidates and eta->inf means growth in the spot with maximun concentration, or equivalently,\n",
    "same probability among all the points with maximun concentration"
   ]
  },
  {
   "cell_type": "markdown",
   "metadata": {},
   "source": [
    "### OPTIONAL - Reduce the time required to solve the diffusion equation"
   ]
  },
  {
   "cell_type": "code",
   "execution_count": null,
   "metadata": {},
   "outputs": [],
   "source": [
    "# TODO"
   ]
  },
  {
   "cell_type": "markdown",
   "metadata": {},
   "source": [
    "## 2. Monte Carlo Simulation of DLA"
   ]
  },
  {
   "cell_type": "markdown",
   "metadata": {},
   "source": [
    "### B.1 Implement the Monte Carlo version of DLA"
   ]
  },
  {
   "cell_type": "code",
   "execution_count": 171,
   "metadata": {},
   "outputs": [],
   "source": [
    "# Global parameters\n",
    "N = 50\n",
    "STEPS = 100\n",
    "STICKING_PROBABILITY = 1\n",
    "\n",
    "# Flags\n",
    "SHOW_STARTING_CONDITIONS = True\n",
    "SAVE_CLUSTER_EVOLUTION = True"
   ]
  },
  {
   "cell_type": "code",
   "execution_count": 172,
   "metadata": {},
   "outputs": [],
   "source": [
    "# Innitialization\n",
    "cluster = np.zeros((N,N))\n",
    "cluster[0,3] = 1"
   ]
  },
  {
   "cell_type": "code",
   "execution_count": 173,
   "metadata": {},
   "outputs": [],
   "source": [
    "if SAVE_CLUSTER_EVOLUTION:\n",
    "    total_clusters_RW = np.zeros((N,N,STEPS))\n",
    "    total_clusters_RW[:,:,0] = cluster"
   ]
  },
  {
   "cell_type": "code",
   "execution_count": 174,
   "metadata": {},
   "outputs": [],
   "source": [
    "# Function for animation of cluster and concentration, based on Assignment 1\n",
    "def rw_animation(rw_locations, interval=250,fps=10,name='rw_animation.mp4'):\n",
    "\n",
    "    plt.figure(figsize=(3, 3), layout='tight')\n",
    "    \n",
    "    def update(t):\n",
    "        plt.clf()\n",
    "\n",
    "        # Create empty matrix\n",
    "        matrix = np.zeros((N,N))\n",
    "\n",
    "        # TODO: Divide matrix by a value to leave trace\n",
    "        # of older positions\n",
    "        # matrix = matrix/2\n",
    "        \n",
    "        # Add 1 to the location\n",
    "        x,y = rw_locations[t,:]\n",
    "        matrix[int(x),int(y)] = 1\n",
    "\n",
    "        # TODO: Show trace of previous steps\n",
    "\n",
    "        plt.imshow(matrix)\n",
    "        plt.title(f't={t} (RW)')\n",
    "        plt.colorbar(fraction=0.0455, pad=0.05)\n",
    "        plt.tight_layout()\n",
    "        return plt\n",
    "\n",
    "    anim = animation.FuncAnimation(plt.gcf(), update, frames=range(\n",
    "            0, rw_locations.shape[0]), interval=interval)\n",
    "\n",
    "    writer = animation.FFMpegWriter(fps=fps)\n",
    "    anim.save(name, writer = writer)"
   ]
  },
  {
   "cell_type": "code",
   "execution_count": 205,
   "metadata": {},
   "outputs": [],
   "source": [
    "def get_RW(cluster,N):\n",
    "    # Get candidates in top row to start the RW    \n",
    "    available_spots = np.argwhere(cluster[0,:] == 0)\n",
    "    \n",
    "    # Continue only if there is still space to add RW at the top\n",
    "    #if available_spots == []:\n",
    "    #    print('First row filled, cant add RW!')\n",
    "    #    return 0,0,True\n",
    "\n",
    "    # Pick one of the available spots at the top for the RW\n",
    "    chosen = np.random.randint(0, len(available_spots)+1)\n",
    "\n",
    "    # TODO: Check if the -1 and previous +1 add up correctly\n",
    "    rw_x = available_spots[chosen-1]\n",
    "    rw_y = 0\n",
    "\n",
    "    return rw_x,rw_y\n",
    "\n",
    "def move_RW(x,y,N):\n",
    "    # Gives the coordinates of the new RW position and\n",
    "    # True or false in the 3rd argument if there was horizontal connection\n",
    "    # It also does horizontal connection if neccesary\n",
    "    # But it does not check if the new position if out of bounds\n",
    "\n",
    "    # Axis of the movement: 0 for x, 1 for y\n",
    "    movement_axis = np.random.choice([0,1])\n",
    "    offset = np.random.choice([-1,1])\n",
    "\n",
    "    if movement_axis==0:\n",
    "        # Move in x axis\n",
    "        return x+offset,y,False\n",
    "    else:\n",
    "        # Movement in y axis \n",
    "        # Check if we connecct with other side\n",
    "        if y==0 and offset == -1:\n",
    "            return x,N-1,True\n",
    "        elif y==(N-1) and offset == 1:\n",
    "            return x,0,True\n",
    "        else:\n",
    "            return x,y+offset,False\n"
   ]
  },
  {
   "cell_type": "code",
   "execution_count": 202,
   "metadata": {},
   "outputs": [
    {
     "name": "stdout",
     "output_type": "stream",
     "text": [
      "RW OUT!\n"
     ]
    },
    {
     "data": {
      "image/png": "[encoded data removed]",
      "text/plain": [
       "<Figure size 300x300 with 2 Axes>"
      ]
     },
     "metadata": {},
     "output_type": "display_data"
    }
   ],
   "source": [
    "\"\"\"\n",
    "RW test: Evolution in time\n",
    "\"\"\"\n",
    "N = 50\n",
    "RW_STEPS = 100\n",
    "x0,y0 = 0,5\n",
    "\n",
    "RW_evolution = np.zeros((RW_STEPS,2))\n",
    "\n",
    "\n",
    "for i in range(RW_STEPS):\n",
    "\n",
    "    x,y,_ = move_RW(x0,y0,N)\n",
    "    RW_out = bool(x<0 or x==N)\n",
    "\n",
    "    #print(i,x,y)\n",
    "\n",
    "    \n",
    "    if RW_out:\n",
    "        print('RW OUT!')\n",
    "        break\n",
    "    # See if new location is cluster!\n",
    "    #elif cluster[x,y] == 1:\n",
    "        # Previous location was neighboor: add to cluster\n",
    "    #    # TODO: Add probability p_s\n",
    "    #    cluster[x0,y0] = 1\n",
    "    else:\n",
    "        # For animation, save location\n",
    "        RW_evolution[i,:] = x,y\n",
    "\n",
    "        # Continue!\n",
    "        x0,y0 = x,y\n",
    "\n",
    "\n",
    "\n",
    "# Do animation up to i\n",
    "rw_animation(RW_evolution[:i,:], interval=250,fps=10,name='rw_animation.mp4')\n"
   ]
  },
  {
   "cell_type": "code",
   "execution_count": 206,
   "metadata": {},
   "outputs": [],
   "source": [
    "def update_RW(cluster,N,sticking_probability):\n",
    "\n",
    "    # Check if we can still add new RWs at the top!\n",
    "    if np.all(cluster[0,:] == 1):\n",
    "        print(\"First row full, can't add more RW, aborting!\")\n",
    "        return cluster,True\n",
    "\n",
    "    # Create RWs until they stick to cluster\n",
    "    RW_added = False\n",
    "\n",
    "    while(not RW_added):\n",
    "        # Get a new RW\n",
    "        x0,y0 = get_RW(cluster,N)\n",
    "\n",
    "        # Move the RW until something happens...\n",
    "        # Either the RW goes outside the map or gets added\n",
    "        while(not RW_added):\n",
    "            x,y,connected = move_RW(x0,y0,N)\n",
    "            RW_out = bool(x<0 or x==N)\n",
    "\n",
    "            if RW_out:\n",
    "                #print('RW OUT! -> New RW')\n",
    "                break\n",
    "            #TODO: Add limitation to avois cluster being connected on the sides \n",
    "            elif cluster[x,y] == 1 and not connected:\n",
    "                # New location is cluster!\n",
    "                # Previous location was neighboor: add to cluster\n",
    "                # TODO: Add probability p_s to formular\n",
    "                accept = np.random.binomial(1, sticking_probability)\n",
    "                if accept:\n",
    "                    cluster[x0,y0] = 1\n",
    "                    RW_added = True\n",
    "                    return cluster,True\n",
    "                else:\n",
    "                    # Reject movement to leader!\n",
    "                    # x,y = x,y\n",
    "                    pass\n",
    "            else:\n",
    "                # Continue moving!\n",
    "                x0,y0 = x,y\n",
    "\n",
    "    #return cluster,full\n"
   ]
  },
  {
   "cell_type": "code",
   "execution_count": 207,
   "metadata": {},
   "outputs": [
    {
     "name": "stdout",
     "output_type": "stream",
     "text": [
      "0\n",
      "1\n",
      "2\n",
      "3\n",
      "4\n",
      "5\n",
      "6\n",
      "7\n",
      "8\n",
      "9\n",
      "10\n",
      "11\n",
      "12\n",
      "13\n",
      "14\n",
      "15\n",
      "16\n",
      "17\n",
      "18\n",
      "19\n",
      "20\n",
      "21\n",
      "22\n",
      "23\n",
      "24\n",
      "25\n",
      "26\n",
      "27\n",
      "28\n",
      "29\n",
      "30\n",
      "31\n",
      "32\n",
      "33\n",
      "34\n",
      "35\n",
      "36\n",
      "37\n",
      "38\n",
      "39\n",
      "40\n",
      "41\n",
      "42\n",
      "43\n",
      "44\n",
      "45\n",
      "46\n",
      "47\n",
      "48\n",
      "49\n",
      "50\n",
      "51\n",
      "52\n",
      "53\n",
      "54\n",
      "55\n",
      "56\n",
      "57\n",
      "58\n",
      "59\n",
      "60\n",
      "61\n",
      "62\n",
      "63\n",
      "64\n",
      "65\n",
      "66\n",
      "67\n",
      "68\n",
      "69\n",
      "70\n",
      "71\n",
      "72\n",
      "73\n",
      "74\n",
      "75\n",
      "76\n",
      "77\n",
      "78\n",
      "79\n",
      "80\n",
      "81\n",
      "82\n",
      "83\n",
      "84\n",
      "85\n",
      "86\n",
      "87\n",
      "88\n",
      "89\n",
      "90\n",
      "91\n",
      "92\n",
      "93\n",
      "94\n",
      "95\n",
      "96\n",
      "97\n",
      "98\n"
     ]
    }
   ],
   "source": [
    "# Main simulation loop\n",
    "N = 25\n",
    "STEPS = 100\n",
    "STICKING_PROBABILITY = 0.8"
   ]
  },
  {
   "cell_type": "code",
   "execution_count": null,
   "metadata": {},
   "outputs": [],
   "source": [
    "# First cluster\n",
    "cluster = np.zeros((N,N))\n",
    "cluster[N-1,int(N/2)] = 1\n",
    "\n",
    "total_clusters_RW = np.zeros((N,N,STEPS))\n",
    "total_clusters_RW[:,:,0] = cluster"
   ]
  },
  {
   "cell_type": "code",
   "execution_count": null,
   "metadata": {},
   "outputs": [],
   "source": [
    "# Simulation\n",
    "for step in range(STEPS-1):    \n",
    "    cluster,full = update_RW(cluster,N,STICKING_PROBABILITY)\n",
    "    total_clusters_RW[:,:,step+1] = cluster"
   ]
  },
  {
   "cell_type": "code",
   "execution_count": 208,
   "metadata": {},
   "outputs": [
    {
     "name": "stderr",
     "output_type": "stream",
     "text": [
      "C:\\Users\\Pablo\\AppData\\Local\\Temp\\ipykernel_19892\\2022812745.py:14: MatplotlibDeprecationWarning: You are modifying the state of a globally registered colormap. This has been deprecated since 3.3 and in 3.6, you will not be able to modify a registered colormap in-place. To remove this warning, you can make a copy of the colormap first. cmap = mpl.cm.get_cmap(\"GnBu\").copy()\n",
      "  cmap.set_bad(color='black')\n"
     ]
    },
    {
     "data": {
      "image/png": "[encoded data removed]",
      "text/plain": [
       "<Figure size 300x300 with 2 Axes>"
      ]
     },
     "metadata": {},
     "output_type": "display_data"
    }
   ],
   "source": [
    "total_concentrations = np.zeros((N,N,STEPS))\n",
    "save_animation(total_clusters_RW,total_concentrations, interval=250,fps=30,name=f'RW_animation_{N}_{STEPS}.mp4')"
   ]
  },
  {
   "cell_type": "markdown",
   "metadata": {},
   "source": [
    "### B.2 Compare the resulting cluster to those obtained with the diffusion equation"
   ]
  },
  {
   "cell_type": "markdown",
   "metadata": {},
   "source": [
    "Fractal dimension"
   ]
  },
  {
   "cell_type": "code",
   "execution_count": null,
   "metadata": {},
   "outputs": [],
   "source": [
    "# https://porespy.org/examples/metrics/tutorials/computing_fractal_dim.html\n",
    "# https://github.com/ksenia007/dlaCluster\n"
   ]
  },
  {
   "cell_type": "code",
   "execution_count": null,
   "metadata": {},
   "outputs": [],
   "source": [
    "# TODO"
   ]
  },
  {
   "cell_type": "markdown",
   "metadata": {},
   "source": [
    "### C.1 Run the simulation for different values of $p_s$"
   ]
  },
  {
   "cell_type": "code",
   "execution_count": null,
   "metadata": {},
   "outputs": [],
   "source": [
    "# TODO"
   ]
  },
  {
   "cell_type": "markdown",
   "metadata": {},
   "source": [
    "### C.2 Plot the results"
   ]
  },
  {
   "cell_type": "code",
   "execution_count": null,
   "metadata": {},
   "outputs": [],
   "source": [
    "# TODO"
   ]
  },
  {
   "cell_type": "markdown",
   "metadata": {},
   "source": [
    "### C.3 How does cluster shape depend on $p_s$?"
   ]
  },
  {
   "cell_type": "code",
   "execution_count": null,
   "metadata": {},
   "outputs": [],
   "source": [
    "# TODO"
   ]
  },
  {
   "cell_type": "markdown",
   "metadata": {},
   "source": [
    "## 3. The Gray-Scott model"
   ]
  },
  {
   "cell_type": "markdown",
   "metadata": {},
   "source": [
    "### D.1 Implement the Gray-Scott model in 2D"
   ]
  },
  {
   "cell_type": "code",
   "execution_count": null,
   "metadata": {},
   "outputs": [],
   "source": [
    "# TODO"
   ]
  },
  {
   "cell_type": "markdown",
   "metadata": {},
   "source": [
    "### D.2 Explain the discretization and implementation"
   ]
  },
  {
   "cell_type": "code",
   "execution_count": null,
   "metadata": {},
   "outputs": [],
   "source": [
    "# TODO"
   ]
  },
  {
   "cell_type": "markdown",
   "metadata": {},
   "source": [
    "### D.3 Plot the resulting concentrations of U and V for several parameter choices"
   ]
  },
  {
   "cell_type": "code",
   "execution_count": null,
   "metadata": {},
   "outputs": [],
   "source": [
    "# TODO"
   ]
  },
  {
   "cell_type": "markdown",
   "metadata": {},
   "source": [
    "### D.4 Try adding a small amount of noise"
   ]
  },
  {
   "cell_type": "code",
   "execution_count": null,
   "metadata": {},
   "outputs": [],
   "source": [
    "# TODO"
   ]
  }
 ],
 "metadata": {
  "kernelspec": {
   "display_name": "Python 3",
   "language": "python",
   "name": "python3"
  },
  "language_info": {
   "codemirror_mode": {
    "name": "ipython",
    "version": 3
   },
   "file_extension": ".py",
   "mimetype": "text/x-python",
   "name": "python",
   "nbconvert_exporter": "python",
   "pygments_lexer": "ipython3",
   "version": "3.10.6"
  }
 },
 "nbformat": 4,
 "nbformat_minor": 2
}
