{
 "cells": [
  {
   "cell_type": "markdown",
   "metadata": {},
   "source": [
    "# Assignment 2\n",
    "### Scientific Computing\n",
    "\n",
    "Nitai Nijholt (12709018)\n",
    "\n",
    "Pablo Rodriguez Alves (15310191)"
   ]
  },
  {
   "cell_type": "code",
   "execution_count": 1,
   "metadata": {},
   "outputs": [],
   "source": [
    "import numpy as np\n",
    "import matplotlib\n",
    "import matplotlib.pyplot as plt\n",
    "from matplotlib import animation\n",
    "\n",
    "from math import floor\n",
    "from time import sleep"
   ]
  },
  {
   "cell_type": "code",
   "execution_count": 2,
   "metadata": {},
   "outputs": [],
   "source": [
    "# Module with diffusion code from Assignment 1\n",
    "from diffusion_module import update_sor"
   ]
  },
  {
   "cell_type": "code",
   "execution_count": 3,
   "metadata": {},
   "outputs": [],
   "source": [
    "np.random.seed(42)"
   ]
  },
  {
   "cell_type": "markdown",
   "metadata": {},
   "source": [
    "## 1. Diffusion Limited Aggregation"
   ]
  },
  {
   "cell_type": "markdown",
   "metadata": {},
   "source": [
    "### A.1 Implement growth model"
   ]
  },
  {
   "cell_type": "code",
   "execution_count": 4,
   "metadata": {},
   "outputs": [],
   "source": [
    "# Global parameters\n",
    "N = 50\n",
    "ETA = 1\n",
    "STEPS = 100\n",
    "CONCENTRATION_SOLVING_THRESHOLD = 0.001 # For concentration solving\n",
    "\n",
    "# Flags\n",
    "SHOW_STARTING_CONDITIONS = True\n",
    "SAVE_CLUSTER_EVOLUTION = True\n"
   ]
  },
  {
   "cell_type": "code",
   "execution_count": 5,
   "metadata": {},
   "outputs": [],
   "source": [
    "# Innitialization\n",
    "# of concentrations, cluster and candidate growth probabilities\n",
    "concentrations = np.zeros((N,N))\n",
    "cluster = np.zeros((N,N))\n",
    "candidates = np.zeros((N,N))\n",
    "\n",
    "## 1. Concentration is set to analytical result\n",
    "for i in range(N):\n",
    "    concentrations[i,:] = 1 - i/(N-1)\n",
    "\n",
    "## 2. Innitial cluster is set as a small square at the bottom\n",
    "# If we want a 2x2 square, use this: cluster[N-2:N,int(N/2-1):int(N/2+1)] = 1\n",
    "cluster[N-1,int(N/2)] = 1"
   ]
  },
  {
   "cell_type": "code",
   "execution_count": 6,
   "metadata": {},
   "outputs": [
    {
     "data": {
      "image/png": "[encoded data removed]",
      "text/plain": [
       "<Figure size 300x300 with 2 Axes>"
      ]
     },
     "metadata": {},
     "output_type": "display_data"
    }
   ],
   "source": [
    "# Plotting of starting conditions\n",
    "# Colorbar settings based on:\n",
    "# https://stackoverflow.com/questions/37719304/python-imshow-set-certain-value-to-defined-color\n",
    "\n",
    "if SHOW_STARTING_CONDITIONS:\n",
    "    # Combine concentrations and cluster for showing\n",
    "    lattice = concentrations + cluster\n",
    "    masked_array = np.ma.masked_where(cluster == 1, lattice)\n",
    "    \n",
    "    # Select the colormap and the color for the exception values\n",
    "    cmap = matplotlib.cm.GnBu\n",
    "    cmap.set_bad(color='black')\n",
    "    \n",
    "    # Plot the total lattice\n",
    "    # For exporting this to report, we should add dpi=400\n",
    "    plt.figure(figsize=(3,3))\n",
    "    plt.imshow(masked_array, cmap=cmap)\n",
    "    plt.title('Starting cluster and concentrations')\n",
    "    plt.colorbar(fraction=0.0455, pad=0.05)\n",
    "    plt.tight_layout()\n",
    "    plt.show()"
   ]
  },
  {
   "cell_type": "code",
   "execution_count": 7,
   "metadata": {},
   "outputs": [],
   "source": [
    "# SOC solving until stop_thresold\n",
    "def solve_SOR(concentrations,cluster,stop_thresold,N):\n",
    "\n",
    "    # TODO: Move this to function parameters\n",
    "    # TODO: Change w to optimal w\n",
    "    MAX_ITERATIONS = 20\n",
    "    w=1.8\n",
    "\n",
    "    # At the top we have c=1, and c=0 at the bottom\n",
    "    # TODO: Check if this is the case\n",
    "    concentrations[0,:] = 1\n",
    "    concentrations[N-1,:] = 0\n",
    "    \n",
    "\n",
    "    # Where we have our cluster it behaves as insulating material\n",
    "    iteration = 1\n",
    "\n",
    "    old_c = concentrations\n",
    "\n",
    "    while(iteration < MAX_ITERATIONS):\n",
    "        # TODO: Call sor_updated\n",
    "        new_c = update_sor(old_c,cluster,N,w)        \n",
    "\n",
    "        # TODO: Compute difference in concent.\n",
    "        delta = np.max(np.abs(new_c - old_c))\n",
    "\n",
    "        # TODO: Check if we change less than stop_thresold\n",
    "        if delta < stop_thresold:\n",
    "            break\n",
    "        else:\n",
    "            old_c = new_c\n",
    "            iteration +=1\n",
    "        \n",
    "\n",
    "\n",
    "    # TODO: Implement as done in assignment 1\n",
    "    return new_c\n",
    "\n",
    "def is_neighboor_in_bounds(neighboor,N):\n",
    "    x,y = neighboor\n",
    "    return True if (x >= 0 and x < N and y >= 0 and y < N) else False\n",
    "\n",
    "# Locate growth candidates\n",
    "def get_candidates(cluster,N):\n",
    "    # Reset candidates\n",
    "    candidates = np.zeros((N,N))\n",
    "\n",
    "    # Get neighboor cells of cluster\n",
    "    cluster_cell_coordinates = np.argwhere(cluster != 0)\n",
    "\n",
    "    for cell in cluster_cell_coordinates:\n",
    "        # Check neighboors        \n",
    "        x,y = cell\n",
    "\n",
    "        neighboors = [[x+1,y],[x-1,y],[x,y+1],[x,y-1]]\n",
    "\n",
    "        for neighboor in neighboors:\n",
    "            xn,yn = neighboor\n",
    "            if is_neighboor_in_bounds(neighboor,N):\n",
    "                if cluster[xn,yn] != 1:\n",
    "                    candidates[xn,yn] = 1\n",
    "                    \n",
    "        # add as candidate!\n",
    "\n",
    "    return candidates\n",
    "\n",
    "def get_candidate_probabilities(candidates,concentrations,N,eta):\n",
    "    # Innitialize matrix for probabilities\n",
    "    probability_growth = np.zeros((N,N))\n",
    "\n",
    "    candidates_coordinates = np.argwhere(candidates != 0)\n",
    "\n",
    "    # Get sum of concentrations at candidate points\n",
    "    candidate_c_sum = np.sum(np.power(concentrations[candidates != 0],eta))    \n",
    "    \n",
    "    # Old way\n",
    "    #candidate_c_sum = 0\n",
    "    #for cell in candidates_coordinates:\n",
    "    #    x,y = cell\n",
    "    #    candidate_c_sum += concentrations[x,y]**eta\n",
    "\n",
    "    # Iterate all candidates!\n",
    "    # TODO: Optimize This could again be done with numpy syntax in one line\n",
    "    for cell in candidates_coordinates:\n",
    "        x,y = cell\n",
    "        probability_growth[x,y] = np.power(concentrations[x,y],eta) / candidate_c_sum\n",
    "\n",
    "    return probability_growth\n",
    "\n",
    "def coordinates_chosen_one(candidates,probability_growth,N):\n",
    "    # Get candidates in 1D and probabilities in 1D\n",
    "    cands = np.arange(0, N**2)\n",
    "    probs = probability_growth.ravel()\n",
    "\n",
    "    #print(cands,probs)\n",
    "\n",
    "    choice = np.random.choice(cands,p=probs)\n",
    "    \n",
    "    #print(choice)\n",
    "    # Get coordinates of element choice\n",
    "    \n",
    "    # Get coordinate\n",
    "    x = floor(choice/N)\n",
    "    y = choice % N\n",
    "    return x,y\n",
    "\n",
    "# Choose one candidate\n",
    "# Update the cluster with that value\n"
   ]
  },
  {
   "cell_type": "code",
   "execution_count": 8,
   "metadata": {},
   "outputs": [],
   "source": [
    "def update(cluster,concentrations,stop_thresold,N):\n",
    "    # 1. Solve time-indep Eq (like Laplace)\n",
    "    ## 1.1 Make concentrations at cluster be 0\n",
    "    concentrations[cluster==1] = 0\n",
    "\n",
    "    ## 1.2 Solve concentrations!\n",
    "    concentrations = solve_SOR(concentrations,cluster,stop_thresold,N)\n",
    "    \n",
    "    # 2. Locate growth candidates around cluster\n",
    "    candidates = get_candidates(cluster,N)\n",
    "    probability_growth = get_candidate_probabilities(candidates,concentrations,N,ETA)\n",
    "\n",
    "    \"\"\"\n",
    "    print(candidates)\n",
    "    print(probability_growth)\n",
    "    plt.imshow(probability_growth)\n",
    "    plt.show()\n",
    "    \"\"\"\n",
    "\n",
    "    # 3. A single candidate is added with probability p_g\n",
    "    x,y = coordinates_chosen_one(candidates,probability_growth,N)\n",
    "    \n",
    "    # And then it is added to the cluster\n",
    "    cluster[x,y] = 1\n",
    "\n",
    "    return cluster,concentrations,probability_growth\n",
    "\n"
   ]
  },
  {
   "cell_type": "code",
   "execution_count": 9,
   "metadata": {},
   "outputs": [],
   "source": [
    "# Repeat from 1 for a large number of growh_steps\n",
    "\n",
    "if SAVE_CLUSTER_EVOLUTION:\n",
    "    # Prepare to save all clusters\n",
    "    total_clusters = np.zeros((N,N,STEPS))\n",
    "    total_concentrations = np.zeros((N,N,STEPS))\n",
    "    total_probability_growth = np.zeros((N,N,STEPS))\n",
    "    # Save starting cluster\n",
    "    total_clusters[:,:,0] = cluster\n",
    "\n",
    "# Main simulation loop\n",
    "for step in range(STEPS-1):\n",
    "    \n",
    "    cluster,concentrations,probability_growth = update(cluster,concentrations,CONCENTRATION_SOLVING_THRESHOLD,N)\n",
    "\n",
    "    if SAVE_CLUSTER_EVOLUTION:\n",
    "        total_clusters[:,:,step+1] = cluster\n",
    "        total_concentrations[:,:,step+1] = concentrations\n",
    "        total_probability_growth[:,:,step+1] = probability_growth"
   ]
  },
  {
   "cell_type": "code",
   "execution_count": 10,
   "metadata": {},
   "outputs": [],
   "source": [
    "# Save results\n",
    "if SAVE_CLUSTER_EVOLUTION:\n",
    "    np.save(f'DLA_clusters_{N}_{STEPS}_{CONCENTRATION_SOLVING_THRESHOLD}.npy',total_clusters)\n",
    "    np.save(f'DLA_concents_{N}_{STEPS}_{CONCENTRATION_SOLVING_THRESHOLD}.npy',total_concentrations)\n",
    "    np.save(f'DLA_probabil_{N}_{STEPS}_{CONCENTRATION_SOLVING_THRESHOLD}.npy',total_probability_growth)"
   ]
  },
  {
   "cell_type": "code",
   "execution_count": 11,
   "metadata": {},
   "outputs": [],
   "source": [
    "# Load results\n",
    "total_clusters = np.load(f'DLA_clusters_{N}_{STEPS}_{CONCENTRATION_SOLVING_THRESHOLD}.npy')\n",
    "total_concentrations = np.load(f'DLA_concents_{N}_{STEPS}_{CONCENTRATION_SOLVING_THRESHOLD}.npy')\n",
    "total_probability_growth = np.load(f'DLA_probabil_{N}_{STEPS}_{CONCENTRATION_SOLVING_THRESHOLD}.npy')"
   ]
  },
  {
   "cell_type": "code",
   "execution_count": 12,
   "metadata": {},
   "outputs": [
    {
     "data": {
      "image/png": "[encoded data removed]",
      "text/plain": [
       "<Figure size 640x480 with 2 Axes>"
      ]
     },
     "metadata": {},
     "output_type": "display_data"
    }
   ],
   "source": [
    "t=1\n",
    "lattice = total_concentrations[:,:,t] + total_clusters[:,:,t]\n",
    "masked_array = np.ma.masked_where(total_clusters[:,:,t] == 1, lattice)\n",
    "\n",
    "# Select the colormap and the color for the exception values\n",
    "cmap = matplotlib.cm.GnBu\n",
    "cmap.set_bad(color='black')        \n",
    "\n",
    "# Plot the total lattice\n",
    "plt.imshow(masked_array, cmap=cmap)\n",
    "plt.title(f't={t}')\n",
    "plt.colorbar(fraction=0.0455, pad=0.05)\n",
    "plt.tight_layout()"
   ]
  },
  {
   "cell_type": "code",
   "execution_count": 13,
   "metadata": {},
   "outputs": [],
   "source": [
    "# Function for animation of cluster and concentration, based on Assignment 1\n",
    "def save_animation(clusters,concentrations, interval=250,fps=10,name='animation.mp4'):\n",
    "        \n",
    "    plt.figure(figsize=(3, 3), layout='tight')\n",
    "\n",
    "    def update(t):\n",
    "        plt.clf()\n",
    "        \n",
    "        lattice = concentrations[:,:,t] + clusters[:,:,t]\n",
    "        masked_array = np.ma.masked_where(clusters[:,:,t] == 1, lattice)\n",
    "        \n",
    "        # Select the colormap and the color for the exception values\n",
    "        cmap = matplotlib.cm.GnBu\n",
    "        cmap.set_bad(color='black')        \n",
    "\n",
    "        # Plot the total lattice\n",
    "        plt.imshow(masked_array, cmap=cmap)\n",
    "        plt.title(f't={t}')\n",
    "        plt.colorbar(fraction=0.0455, pad=0.05)\n",
    "        plt.tight_layout()\n",
    "        return plt\n",
    "\n",
    "    anim = animation.FuncAnimation(plt.gcf(), update, frames=range(\n",
    "            0, clusters.shape[2]), interval=interval)\n",
    "\n",
    "    writer = animation.FFMpegWriter(fps=fps)\n",
    "    anim.save(name, writer = writer)"
   ]
  },
  {
   "cell_type": "code",
   "execution_count": 14,
   "metadata": {},
   "outputs": [],
   "source": [
    "# Function for animation of growth probability\n",
    "def save_animation_probability(clusters,growth_probs, interval=250,fps=10,name='animation_probability.mp4',normalize=False):\n",
    "        \n",
    "    plt.figure(figsize=(3, 3), layout='tight')\n",
    "\n",
    "    def update(t):\n",
    "        plt.clf()\n",
    "        \n",
    "        lattice = growth_probs[:,:,t] + clusters[:,:,t]\n",
    "        masked_array = np.ma.masked_where(clusters[:,:,t] == 1, lattice)\n",
    "        \n",
    "        # Select the colormap and the color for the exception values\n",
    "        cmap = matplotlib.cm.GnBu\n",
    "        cmap.set_bad(color='black')        \n",
    "\n",
    "        # Plot the total lattice\n",
    "        if normalize:\n",
    "            masked_array = masked_array / np.max(growth_probs[:,:,t])\n",
    "\n",
    "        plt.imshow(masked_array, cmap=cmap)\n",
    "        plt.title(f't={t}')\n",
    "        plt.colorbar(fraction=0.0455, pad=0.05)\n",
    "        plt.tight_layout()\n",
    "        return plt\n",
    "\n",
    "    anim = animation.FuncAnimation(plt.gcf(), update, frames=range(\n",
    "            0, clusters.shape[2]), interval=interval)\n",
    "\n",
    "    writer = animation.FFMpegWriter(fps=fps)\n",
    "    anim.save(name, writer = writer)"
   ]
  },
  {
   "cell_type": "code",
   "execution_count": 15,
   "metadata": {},
   "outputs": [
    {
     "data": {
      "image/png": "[encoded data removed]",
      "text/plain": [
       "<Figure size 300x300 with 2 Axes>"
      ]
     },
     "metadata": {},
     "output_type": "display_data"
    }
   ],
   "source": [
    "save_animation(total_clusters,total_concentrations, interval=250,fps=30,name=f'animation_{N}_{STEPS}_{CONCENTRATION_SOLVING_THRESHOLD}.mp4')"
   ]
  },
  {
   "cell_type": "code",
   "execution_count": 16,
   "metadata": {},
   "outputs": [
    {
     "data": {
      "image/png": "[encoded data removed]",
      "text/plain": [
       "<Figure size 300x300 with 2 Axes>"
      ]
     },
     "metadata": {},
     "output_type": "display_data"
    }
   ],
   "source": [
    "# Growth probability animation\n",
    "save_animation_probability(total_clusters,total_probability_growth, interval=250,fps=30,name=f'animation_prob_{N}_{STEPS}_{CONCENTRATION_SOLVING_THRESHOLD}.mp4',normalize=True)\n",
    "      "
   ]
  },
  {
   "cell_type": "code",
   "execution_count": null,
   "metadata": {},
   "outputs": [],
   "source": []
  },
  {
   "cell_type": "markdown",
   "metadata": {},
   "source": [
    "### A.2 Run a number of growth simulations"
   ]
  },
  {
   "cell_type": "code",
   "execution_count": 17,
   "metadata": {},
   "outputs": [],
   "source": [
    "# TODO\n"
   ]
  },
  {
   "cell_type": "markdown",
   "metadata": {},
   "source": [
    "### A.3 Investigate the influence of the $\\tau$ parameter"
   ]
  },
  {
   "cell_type": "code",
   "execution_count": 18,
   "metadata": {},
   "outputs": [],
   "source": [
    "# TODO\n"
   ]
  },
  {
   "cell_type": "markdown",
   "metadata": {},
   "source": [
    "### OPTIONAL - Reduce the time required to solve the diffusion equation"
   ]
  },
  {
   "cell_type": "code",
   "execution_count": 19,
   "metadata": {},
   "outputs": [],
   "source": [
    "# TODO"
   ]
  },
  {
   "cell_type": "markdown",
   "metadata": {},
   "source": [
    "## 2. Monte Carlo Simulation of DLA"
   ]
  },
  {
   "cell_type": "markdown",
   "metadata": {},
   "source": [
    "### B.1 Implement the Monte Carlo version of DLA"
   ]
  },
  {
   "cell_type": "code",
   "execution_count": 20,
   "metadata": {},
   "outputs": [],
   "source": [
    "# TODO"
   ]
  },
  {
   "cell_type": "markdown",
   "metadata": {},
   "source": [
    "### B.2 Compare the resulting cluster to those obtained with the diffusion equation"
   ]
  },
  {
   "cell_type": "code",
   "execution_count": 21,
   "metadata": {},
   "outputs": [],
   "source": [
    "# TODO"
   ]
  },
  {
   "cell_type": "markdown",
   "metadata": {},
   "source": [
    "### C.1 Run the simulation for different values of $p_s$"
   ]
  },
  {
   "cell_type": "code",
   "execution_count": 22,
   "metadata": {},
   "outputs": [],
   "source": [
    "# TODO"
   ]
  },
  {
   "cell_type": "markdown",
   "metadata": {},
   "source": [
    "### C.2 Plot the results"
   ]
  },
  {
   "cell_type": "code",
   "execution_count": 23,
   "metadata": {},
   "outputs": [],
   "source": [
    "# TODO"
   ]
  },
  {
   "cell_type": "markdown",
   "metadata": {},
   "source": [
    "### C.3 How does cluster shape depend on $p_s$?"
   ]
  },
  {
   "cell_type": "code",
   "execution_count": 24,
   "metadata": {},
   "outputs": [],
   "source": [
    "# TODO"
   ]
  },
  {
   "cell_type": "markdown",
   "metadata": {},
   "source": [
    "## 3. The Gray-Scott model"
   ]
  },
  {
   "cell_type": "markdown",
   "metadata": {},
   "source": [
    "### D.1 Implement the Gray-Scott model in 2D"
   ]
  },
  {
   "cell_type": "code",
   "execution_count": 25,
   "metadata": {},
   "outputs": [],
   "source": [
    "# Params\n",
    "\n",
    "delta_t = 1\n",
    "delta_x = 1,\n",
    "Du = 0.16\n",
    "Dv = 0.08 \n",
    "f = 0.035 \n",
    "k = 0.060 \n",
    "u = 0.5 #take everywhere in the system, and \n",
    "\n",
    "v = 0.25 # in the center of the system"
   ]
  },
  {
   "cell_type": "code",
   "execution_count": 26,
   "metadata": {},
   "outputs": [],
   "source": [
    "def initilaize_and_fill_matrix(shape_tuple_u, shape_tuple_v, Du, Dv, shape_v='square', square_size_propotion=0.2):\n",
    "    U = np.ones(shape_tuple_u) * Du\n",
    "    V = np.zeros(shape_tuple_v)\n",
    "    square_size = int(square_size_propotion * shape_tuple_v[0])\n",
    "    if shape_v == 'square':\n",
    "       start_index_row = (shape_tuple_v[0] - square_size) //2\n",
    "       start_index_col= (shape_tuple_v[1] - square_size) //2\n",
    "    V[start_index_row:start_index_row+square_size, start_index_col:start_index_col+square_size] = Dv\n",
    "   # if shape_v == 'random':\n",
    "        #TODO implement random cells get some v concentration\n",
    "    return U, V\n"
   ]
  },
  {
   "cell_type": "code",
   "execution_count": 27,
   "metadata": {},
   "outputs": [
    {
     "name": "stdout",
     "output_type": "stream",
     "text": [
      "[[0.   0.   0.   0.   0.   0.   0.   0.   0.   0.  ]\n",
      " [0.   0.   0.   0.   0.   0.   0.   0.   0.   0.  ]\n",
      " [0.   0.   0.   0.   0.   0.   0.   0.   0.   0.  ]\n",
      " [0.   0.   0.   0.   0.   0.   0.   0.   0.   0.  ]\n",
      " [0.   0.   0.   0.   0.08 0.08 0.   0.   0.   0.  ]\n",
      " [0.   0.   0.   0.   0.08 0.08 0.   0.   0.   0.  ]\n",
      " [0.   0.   0.   0.   0.   0.   0.   0.   0.   0.  ]\n",
      " [0.   0.   0.   0.   0.   0.   0.   0.   0.   0.  ]\n",
      " [0.   0.   0.   0.   0.   0.   0.   0.   0.   0.  ]\n",
      " [0.   0.   0.   0.   0.   0.   0.   0.   0.   0.  ]]\n"
     ]
    }
   ],
   "source": [
    "U,V = initilaize_and_fill_matrix(shape_tuple_u = (10,10), shape_tuple_v = (10,10), Du=Du, Dv=Dv, shape_v='square', square_size_propotion=0.2)\n",
    "print(V)"
   ]
  },
  {
   "cell_type": "code",
   "execution_count": 28,
   "metadata": {},
   "outputs": [],
   "source": [
    "def wrap(value, limit):\n",
    "    \"\"\"Implements periodic boundries that wrap around the matrix\"\"\"\n",
    "    return ((v+limit)%limit)"
   ]
  },
  {
   "cell_type": "code",
   "execution_count": 29,
   "metadata": {},
   "outputs": [],
   "source": [
    "def update(U, V, Du, Dv, f, k):\n",
    "    \"\"\" Taves a matrix which chemical U and matrix with chemical V, Updates 1 step of reaction diffusion equation and returns U van V matrices corresponding with next time step\"\"\"\n",
    "    U =  U.copy()\n",
    "    V = V.copy()\n",
    "    U_next = U.copy()\n",
    "    V_next = V.copy()\n",
    "    rows, cols = U.shape\n",
    "    # We define a convolution matrix, e.g.;\n",
    "\n",
    "    # 0.05, 0.2, 0.05\n",
    "    # 0.2, -1, 0.2\n",
    "    # 0.05, 0.2, 0.05\n",
    "\n",
    "    # This represents chemical moving out from the middle cell and towards the neighbouring cells, where all the neigbouring cell concentration adds up to 1 and the full matrix sums to 0.\n",
    "    # Notice cells on the direct north/south/east/west direction (hareafter called cross cells) receive receive more chemical than the diagonal & off diagonal cells.\n",
    "\n",
    "    for i in range(rows):\n",
    "        for j in range(cols):\n",
    "\n",
    "            # First we update the U matrix\n",
    "\n",
    "            # Starting with the 'middle' cell\n",
    "            U_next[i,j] = U[i,j]\n",
    "\n",
    "            # Diagonal cells\n",
    "            # Top left diagonal\n",
    "            U_next[i-1, j-1] += U[wrap(i, rows), wrap(j, cols)] * Du * 0.05\n",
    "            # Top right diagonal\n",
    "            U_next[i-1, j+1] += U[wrap(i, rows), wrap(j, cols)] * Du * 0.05\n",
    "            # Bottom left diagonal\n",
    "            U_next[i+1, j-1] += U[wrap(i, rows), wrap(j, cols)] * Du * 0.05\n",
    "            # Bottom right diagonal\n",
    "            U_next[i+1, j+1] += U[wrap(i, rows), wrap(j, cols)] * Du * 0.05\n",
    "\n",
    "            # Cross cells\n",
    "            # Top Cross cell\n",
    "            U_next[i-1, j] += U[wrap(i, rows), wrap(j, cols)] * Du * 0.2\n",
    "            # Left Cross cell\n",
    "            U_next[i, j-1] += U[wrap(i, rows), wrap(j, cols)] * Du * 0.2\n",
    "            # Right Cross cell\n",
    "            U_next[i, j+1] += U[wrap(i, rows), wrap(j, cols)] * Du * 0.2\n",
    "            # Bottom right diagonal\n",
    "            U_next[i+1, j, cols] += U[wrap(i, rows), wrap(j, cols)] * Du * 0.2\n",
    "\n",
    "            # Removing chemical from the middle cell\n",
    "            U_next[i,j] += -1 * U[i,j] * Du\n",
    "\n",
    "            # Now the first term of the equation for u is taken vareoff, we take care of the second term (-uv^2):\n",
    "            U_next[i,j] -= U[i,j] * V[i,j] * V[i,j]\n",
    "\n",
    "            # Now we take care of the last term\n",
    "            U_next[i,j] += f * ( 1 - U[i,j])\n",
    "\n",
    "\n",
    "            # Now we update the V matrix\n",
    "\n",
    "            # Starting with the 'middle' cell\n",
    "            V_next[i,j] = U[i,j]\n",
    "\n",
    "            # Diagonal cells\n",
    "            # Top left diagonal\n",
    "            V_next[i-1, rows, j-1] += V[wrap(i, rows), wrap(j, cols)] * Dv * 0.05\n",
    "            # Top right diagonal\n",
    "            V_next[i-1, rows, j+1] += V[wrap(i, rows), wrap(j, cols)] * Dv * 0.05\n",
    "            # Bottom left diagonal\n",
    "            V_next[i+1, j-1] += V[wrap(i, rows), wrap(j, cols)] * Dv * 0.05\n",
    "            # Bottom right diagonal\n",
    "            V_next[i+1, j+1] += V[wrap(i, rows), wrap(j, cols)] * Dv * 0.05\n",
    "\n",
    "            # Cross cells\n",
    "            # Top Cross cell\n",
    "            V_next[i-1, j] += V[wrap(i, rows), wrap(j, cols)] * Dv * 0.2\n",
    "            # Left Cross cell\n",
    "            V_next[i, j-1] += V[wrap(i, rows), wrap(j, cols)] * Dv * 0.2\n",
    "            # Right Cross cell\n",
    "            V_next[i, j+1] += V[wrap(i, rows), wrap(j, cols)] * Dv * 0.2\n",
    "            # Bottom right diagonal\n",
    "            V_next[i+1, j] += V[wrap(i, rows), wrap(j, cols)] * Dv * 0.2\n",
    "\n",
    "            # Removing chemical from the middle cell\n",
    "            V_next[i,j] += -1 * U[i,j] * Du\n",
    "\n",
    "            # Now the first term of the equation for u is taken vareoff, we take care of the second term (-uv^2):\n",
    "            V_next[i,j] += U[i,j] * V[i,j] * V[i,j]\n",
    "\n",
    "            # Now we take care of the last term\n",
    "            V_next[i,j] -= (f + k)*v\n",
    "\n",
    "            return U_next, V_next"
   ]
  },
  {
   "cell_type": "markdown",
   "metadata": {},
   "source": [
    "### D.2 Explain the discretization and implementation"
   ]
  },
  {
   "cell_type": "code",
   "execution_count": 30,
   "metadata": {},
   "outputs": [],
   "source": [
    "# TODO"
   ]
  },
  {
   "cell_type": "markdown",
   "metadata": {},
   "source": [
    "### D.3 Plot the resulting concentrations of U and V for several parameter choices"
   ]
  },
  {
   "cell_type": "code",
   "execution_count": 31,
   "metadata": {},
   "outputs": [],
   "source": [
    "# TODO"
   ]
  },
  {
   "cell_type": "markdown",
   "metadata": {},
   "source": [
    "### D.4 Try adding a small amount of noise"
   ]
  },
  {
   "cell_type": "code",
   "execution_count": 32,
   "metadata": {},
   "outputs": [],
   "source": [
    "# TODO"
   ]
  }
 ],
 "metadata": {
  "kernelspec": {
   "display_name": "Python 3",
   "language": "python",
   "name": "python3"
  },
  "language_info": {
   "codemirror_mode": {
    "name": "ipython",
    "version": 3
   },
   "file_extension": ".py",
   "mimetype": "text/x-python",
   "name": "python",
   "nbconvert_exporter": "python",
   "pygments_lexer": "ipython3",
   "version": "3.12.1"
  }
 },
 "nbformat": 4,
 "nbformat_minor": 2
}
