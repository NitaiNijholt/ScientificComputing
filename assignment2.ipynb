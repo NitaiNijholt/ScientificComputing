{
 "cells": [
  {
   "cell_type": "markdown",
   "metadata": {},
   "source": [
    "# Assignment 2\n",
    "### Scientific Computing\n",
    "\n",
    "Nitai Nijholt (12709018)\n",
    "\n",
    "Pablo Rodriguez Alves (15310191)"
   ]
  },
  {
   "cell_type": "code",
   "execution_count": 242,
   "metadata": {},
   "outputs": [],
   "source": [
    "import numpy as np\n",
    "import matplotlib\n",
    "import matplotlib.pyplot as plt\n",
    "from matplotlib import animation\n",
    "\n",
    "from math import floor\n",
    "from time import sleep"
   ]
  },
  {
   "cell_type": "code",
   "execution_count": 243,
   "metadata": {},
   "outputs": [],
   "source": [
    "np.random.seed(42)"
   ]
  },
  {
   "cell_type": "markdown",
   "metadata": {},
   "source": [
    "## 1. Diffusion Limited Aggregation"
   ]
  },
  {
   "cell_type": "markdown",
   "metadata": {},
   "source": [
    "### A.1 Implement growth model"
   ]
  },
  {
   "cell_type": "code",
   "execution_count": 256,
   "metadata": {},
   "outputs": [],
   "source": [
    "# Global parameters\n",
    "N = 100\n",
    "ETA = 1\n",
    "STEPS = 500\n",
    "CONCENTRATION_SOLVING_THRESHOLD = 0.001 # For concentration solving\n",
    "\n",
    "# Flags\n",
    "SHOW_STARTING_CONDITIONS = True\n",
    "SAVE_CLUSTER_EVOLUTION = True\n"
   ]
  },
  {
   "cell_type": "code",
   "execution_count": 257,
   "metadata": {},
   "outputs": [],
   "source": [
    "# Innitialization\n",
    "# of concentrations, cluster and candidate growth probabilities\n",
    "concentrations = np.zeros((N,N))\n",
    "cluster = np.zeros((N,N))\n",
    "candidates = np.zeros((N,N))\n",
    "\n",
    "## 1. Concentration is set to analytical result\n",
    "for i in range(N):\n",
    "    concentrations[i,:] = 1 - i/(N-1)\n",
    "\n",
    "## 2. Innitial cluster is set as a small square at the bottom\n",
    "# If we want a 2x2 square, use this: cluster[N-2:N,int(N/2-1):int(N/2+1)] = 1\n",
    "cluster[N-1,int(N/2)] = 1"
   ]
  },
  {
   "cell_type": "code",
   "execution_count": 258,
   "metadata": {},
   "outputs": [
    {
     "name": "stderr",
     "output_type": "stream",
     "text": [
      "C:\\Users\\Pablo\\AppData\\Local\\Temp\\ipykernel_5748\\2991715646.py:12: MatplotlibDeprecationWarning: You are modifying the state of a globally registered colormap. This has been deprecated since 3.3 and in 3.6, you will not be able to modify a registered colormap in-place. To remove this warning, you can make a copy of the colormap first. cmap = mpl.cm.get_cmap(\"GnBu\").copy()\n",
      "  cmap.set_bad(color='black')\n"
     ]
    },
    {
     "data": {
      "image/png": "[encoded data removed]",
      "text/plain": [
       "<Figure size 300x300 with 2 Axes>"
      ]
     },
     "metadata": {},
     "output_type": "display_data"
    }
   ],
   "source": [
    "# Plotting of starting conditions\n",
    "# Colorbar settings based on:\n",
    "# https://stackoverflow.com/questions/37719304/python-imshow-set-certain-value-to-defined-color\n",
    "\n",
    "if SHOW_STARTING_CONDITIONS:\n",
    "    # Combine concentrations and cluster for showing\n",
    "    lattice = concentrations + cluster\n",
    "    masked_array = np.ma.masked_where(cluster == 1, lattice)\n",
    "    \n",
    "    # Select the colormap and the color for the exception values\n",
    "    cmap = matplotlib.cm.GnBu\n",
    "    cmap.set_bad(color='black')\n",
    "    \n",
    "    # Plot the total lattice\n",
    "    # For exporting this to report, we should add dpi=400\n",
    "    plt.figure(figsize=(3,3))\n",
    "    plt.imshow(masked_array, cmap=cmap)\n",
    "    plt.title('Starting cluster and concentrations')\n",
    "    plt.colorbar(fraction=0.0455, pad=0.05)\n",
    "    plt.tight_layout()\n",
    "    plt.show()"
   ]
  },
  {
   "cell_type": "code",
   "execution_count": 268,
   "metadata": {},
   "outputs": [],
   "source": [
    "# SOC solving until stop_thresold\n",
    "def solve_SOR(concentrations,stop_thresold):\n",
    "    # TODO: Implement as done in assignment 1\n",
    "    return concentrations\n",
    "\n",
    "def is_neighboor_in_bounds(neighboor,N):\n",
    "    x,y = neighboor\n",
    "    return True if (x >= 0 and x < N and y >= 0 and y < N) else False\n",
    "\n",
    "# Locate growth candidates\n",
    "def get_candidates(cluster,N):\n",
    "    # Reset candidates\n",
    "    candidates = np.zeros((N,N))\n",
    "\n",
    "    # Get neighboor cells of cluster\n",
    "    cluster_cell_coordinates = np.argwhere(cluster != 0)\n",
    "\n",
    "    for cell in cluster_cell_coordinates:\n",
    "        # Check neighboors        \n",
    "        x,y = cell\n",
    "\n",
    "        neighboors = [[x+1,y],[x-1,y],[x,y+1],[x,y-1]]\n",
    "\n",
    "        for neighboor in neighboors:\n",
    "            xn,yn = neighboor\n",
    "            if is_neighboor_in_bounds(neighboor,N):\n",
    "                if cluster[xn,yn] != 1:\n",
    "                    candidates[xn,yn] = 1\n",
    "                    \n",
    "        # add as candidate!\n",
    "\n",
    "    return candidates\n",
    "\n",
    "def get_candidate_probabilities(candidates,concentrations,N,eta):\n",
    "    # Innitialize matrix for probabilities\n",
    "    probability_growth = np.zeros((N,N))\n",
    "\n",
    "    candidates_coordinates = np.argwhere(candidates != 0)\n",
    "\n",
    "    # Get sum of concentrations at candidate points\n",
    "    candidate_c_sum = np.sum(np.power(concentrations[candidates != 0],eta))    \n",
    "    \n",
    "    # Old way\n",
    "    #candidate_c_sum = 0\n",
    "    #for cell in candidates_coordinates:\n",
    "    #    x,y = cell\n",
    "    #    candidate_c_sum += concentrations[x,y]**eta\n",
    "\n",
    "    # Iterate all candidates!\n",
    "    # TODO: Optimize This could again be done with numpy syntax in one line\n",
    "    for cell in candidates_coordinates:\n",
    "        x,y = cell\n",
    "        probability_growth[x,y] = np.power(concentrations[x,y],eta) / candidate_c_sum\n",
    "\n",
    "    return probability_growth\n",
    "\n",
    "def coordinates_chosen_one(candidates,probability_growth,N):\n",
    "    # Get candidates in 1D and probabilities in 1D\n",
    "    cands = np.arange(0, N**2)\n",
    "    probs = probability_growth.ravel()\n",
    "\n",
    "    #print(cands,probs)\n",
    "\n",
    "    choice = np.random.choice(cands,p=probs)\n",
    "    \n",
    "    #print(choice)\n",
    "    # Get coordinates of element choice\n",
    "    \n",
    "    # Get coordinate\n",
    "    x = floor(choice/N)\n",
    "    y = choice % N\n",
    "    return x,y\n",
    "\n",
    "# Choose one candidate\n",
    "# Update the cluster with that value\n",
    "\n",
    "\n",
    "def update(cluster,concentrations,stop_thresold,N):\n",
    "    # 1. Solve time-indep Eq (like Laplace)\n",
    "    ## 1.1 Make concentrations at cluster be 0\n",
    "    concentrations[cluster==1] = 0\n",
    "\n",
    "    ## 1.2 Solve concentrations!\n",
    "    ### TODO: Load code from assignment 1\n",
    "    ### Using SOC with optimal w, until stop_thresold\n",
    "    #concentrations = solve_SOR(concentrations,stop_thresold)\n",
    "\n",
    "    # 2. Locate growth candidates around cluster\n",
    "    candidates = get_candidates(cluster,N)\n",
    "    probability_growth = get_candidate_probabilities(candidates,concentrations,N,ETA)\n",
    "\n",
    "    \"\"\"\n",
    "    print(candidates)\n",
    "    print(probability_growth)\n",
    "    plt.imshow(probability_growth)\n",
    "    plt.show()\n",
    "    \"\"\"\n",
    "\n",
    "    # 3. A single candidate is added with probability p_g\n",
    "    x,y = coordinates_chosen_one(candidates,probability_growth,N)\n",
    "    \n",
    "    # And then it is added to the cluster\n",
    "    cluster[x,y] = 1\n",
    "\n",
    "    return cluster,concentrations,probability_growth\n",
    "\n"
   ]
  },
  {
   "cell_type": "code",
   "execution_count": 269,
   "metadata": {},
   "outputs": [],
   "source": [
    "# Repeat from 1 for a large number of growh_steps\n",
    "\n",
    "if SAVE_CLUSTER_EVOLUTION:\n",
    "    # Prepare to save all clusters\n",
    "    total_clusters = np.zeros((N,N,STEPS))\n",
    "    total_concentrations = np.zeros((N,N,STEPS))\n",
    "    total_probability_growth = np.zeros((N,N,STEPS))\n",
    "    # Save starting cluster\n",
    "    total_clusters[:,:,0] = cluster\n",
    "\n",
    "# Main simulation loop\n",
    "for step in range(STEPS-1):\n",
    "    \n",
    "    cluster,concentrations,probability_growth = update(cluster,concentrations,CONCENTRATION_SOLVING_THRESHOLD,N)\n",
    "\n",
    "    if SAVE_CLUSTER_EVOLUTION:\n",
    "        total_clusters[:,:,step+1] = cluster\n",
    "        total_concentrations[:,:,step+1] = concentrations\n",
    "        total_probability_growth[:,:,step+1] = probability_growth"
   ]
  },
  {
   "cell_type": "code",
   "execution_count": 270,
   "metadata": {},
   "outputs": [],
   "source": [
    "# Save results\n",
    "if SAVE_CLUSTER_EVOLUTION:\n",
    "    np.save(f'DLA_clusters_{N}_{STEPS}_{CONCENTRATION_SOLVING_THRESHOLD}.npy',total_clusters)\n",
    "    np.save(f'DLA_concents_{N}_{STEPS}_{CONCENTRATION_SOLVING_THRESHOLD}.npy',total_concentrations)\n",
    "    np.save(f'DLA_probabil_{N}_{STEPS}_{CONCENTRATION_SOLVING_THRESHOLD}.npy',total_probability_growth)\n",
    "    "
   ]
  },
  {
   "cell_type": "code",
   "execution_count": 271,
   "metadata": {},
   "outputs": [],
   "source": [
    "# Load results\n",
    "total_clusters = np.load(f'DLA_clusters_{N}_{STEPS}_{CONCENTRATION_SOLVING_THRESHOLD}.npy')\n",
    "total_concentrations = np.load(f'DLA_concents_{N}_{STEPS}_{CONCENTRATION_SOLVING_THRESHOLD}.npy')\n",
    "total_probability_growth = np.load(f'DLA_probabil_{N}_{STEPS}_{CONCENTRATION_SOLVING_THRESHOLD}.npy')"
   ]
  },
  {
   "cell_type": "code",
   "execution_count": 265,
   "metadata": {},
   "outputs": [],
   "source": [
    "# Function for animation of cluster and concentration, based on Assignment 1\n",
    "def save_animation(clusters,concentrations, interval=250,fps=10,name='animation.mp4'):\n",
    "        \n",
    "    plt.figure(figsize=(3, 3), layout='tight')\n",
    "\n",
    "    def update(t):\n",
    "        plt.clf()\n",
    "        #plt.imshow(data[t,:,:], vmin=0, vmax=1)\n",
    "        lattice = concentrations[:,:,t] + clusters[:,:,t]\n",
    "        masked_array = np.ma.masked_where(clusters[:,:,t] == 1, lattice)\n",
    "        # Select the colormap and the color for the exception values\n",
    "        cmap = matplotlib.cm.GnBu\n",
    "        cmap.set_bad(color='black')        \n",
    "        # Plot the total lattice\n",
    "        # For exporting this to report, we should add dpi=400\n",
    "        #plt.figure(figsize=(3,3))\n",
    "        plt.imshow(masked_array, cmap=cmap)\n",
    "        plt.title(f't={t}')\n",
    "        plt.colorbar(fraction=0.0455, pad=0.05)\n",
    "        plt.tight_layout()\n",
    "        return plt\n",
    "\n",
    "    anim = animation.FuncAnimation(plt.gcf(), update, frames=range(\n",
    "            0, clusters.shape[2]), interval=interval)\n",
    "\n",
    "    writer = animation.FFMpegWriter(fps=fps)\n",
    "    anim.save(name, writer = writer)"
   ]
  },
  {
   "cell_type": "code",
   "execution_count": 266,
   "metadata": {},
   "outputs": [
    {
     "name": "stderr",
     "output_type": "stream",
     "text": [
      "C:\\Users\\Pablo\\AppData\\Local\\Temp\\ipykernel_5748\\4128288497.py:13: MatplotlibDeprecationWarning: You are modifying the state of a globally registered colormap. This has been deprecated since 3.3 and in 3.6, you will not be able to modify a registered colormap in-place. To remove this warning, you can make a copy of the colormap first. cmap = mpl.cm.get_cmap(\"GnBu\").copy()\n",
      "  cmap.set_bad(color='black')\n"
     ]
    },
    {
     "data": {
      "image/png": "[encoded data removed]",
      "text/plain": [
       "<Figure size 300x300 with 2 Axes>"
      ]
     },
     "metadata": {},
     "output_type": "display_data"
    }
   ],
   "source": [
    "save_animation(total_clusters,total_concentrations, interval=250,fps=30,name=f'animation_{N}_{STEPS}_{CONCENTRATION_SOLVING_THRESHOLD}.mp4')"
   ]
  },
  {
   "cell_type": "code",
   "execution_count": 255,
   "metadata": {},
   "outputs": [
    {
     "name": "stdout",
     "output_type": "stream",
     "text": [
      "49\n"
     ]
    },
    {
     "data": {
      "image/png": "[encoded data removed]",
      "text/plain": [
       "<Figure size 640x480 with 1 Axes>"
      ]
     },
     "metadata": {},
     "output_type": "display_data"
    }
   ],
   "source": []
  },
  {
   "cell_type": "markdown",
   "metadata": {},
   "source": [
    "### A.2 Run a number of growth simulations"
   ]
  },
  {
   "cell_type": "code",
   "execution_count": null,
   "metadata": {},
   "outputs": [],
   "source": [
    "# TODO"
   ]
  },
  {
   "cell_type": "markdown",
   "metadata": {},
   "source": [
    "### A.3 Investigate the influence of the $\\tau$ parameter"
   ]
  },
  {
   "cell_type": "code",
   "execution_count": null,
   "metadata": {},
   "outputs": [],
   "source": [
    "# TODO"
   ]
  },
  {
   "cell_type": "markdown",
   "metadata": {},
   "source": [
    "### OPTIONAL - Reduce the time required to solve the diffusion equation"
   ]
  },
  {
   "cell_type": "code",
   "execution_count": null,
   "metadata": {},
   "outputs": [],
   "source": [
    "# TODO"
   ]
  },
  {
   "cell_type": "markdown",
   "metadata": {},
   "source": [
    "## 2. Monte Carlo Simulation of DLA"
   ]
  },
  {
   "cell_type": "markdown",
   "metadata": {},
   "source": [
    "### B.1 Implement the Monte Carlo version of DLA"
   ]
  },
  {
   "cell_type": "code",
   "execution_count": null,
   "metadata": {},
   "outputs": [],
   "source": [
    "# TODO"
   ]
  },
  {
   "cell_type": "markdown",
   "metadata": {},
   "source": [
    "### B.2 Compare the resulting cluster to those obtained with the diffusion equation"
   ]
  },
  {
   "cell_type": "code",
   "execution_count": null,
   "metadata": {},
   "outputs": [],
   "source": [
    "# TODO"
   ]
  },
  {
   "cell_type": "markdown",
   "metadata": {},
   "source": [
    "### C.1 Run the simulation for different values of $p_s$"
   ]
  },
  {
   "cell_type": "code",
   "execution_count": null,
   "metadata": {},
   "outputs": [],
   "source": [
    "# TODO"
   ]
  },
  {
   "cell_type": "markdown",
   "metadata": {},
   "source": [
    "### C.2 Plot the results"
   ]
  },
  {
   "cell_type": "code",
   "execution_count": null,
   "metadata": {},
   "outputs": [],
   "source": [
    "# TODO"
   ]
  },
  {
   "cell_type": "markdown",
   "metadata": {},
   "source": [
    "### C.3 How does cluster shape depend on $p_s$?"
   ]
  },
  {
   "cell_type": "code",
   "execution_count": null,
   "metadata": {},
   "outputs": [],
   "source": [
    "# TODO"
   ]
  },
  {
   "cell_type": "markdown",
   "metadata": {},
   "source": [
    "## 3. The Gray-Scott model"
   ]
  },
  {
   "cell_type": "markdown",
   "metadata": {},
   "source": [
    "### D.1 Implement the Gray-Scott model in 2D"
   ]
  },
  {
   "cell_type": "code",
   "execution_count": null,
   "metadata": {},
   "outputs": [],
   "source": [
    "# TODO"
   ]
  },
  {
   "cell_type": "markdown",
   "metadata": {},
   "source": [
    "### D.2 Explain the discretization and implementation"
   ]
  },
  {
   "cell_type": "code",
   "execution_count": null,
   "metadata": {},
   "outputs": [],
   "source": [
    "# TODO"
   ]
  },
  {
   "cell_type": "markdown",
   "metadata": {},
   "source": [
    "### D.3 Plot the resulting concentrations of U and V for several parameter choices"
   ]
  },
  {
   "cell_type": "code",
   "execution_count": null,
   "metadata": {},
   "outputs": [],
   "source": [
    "# TODO"
   ]
  },
  {
   "cell_type": "markdown",
   "metadata": {},
   "source": [
    "### D.4 Try adding a small amount of noise"
   ]
  },
  {
   "cell_type": "code",
   "execution_count": null,
   "metadata": {},
   "outputs": [],
   "source": [
    "# TODO"
   ]
  }
 ],
 "metadata": {
  "kernelspec": {
   "display_name": "Python 3",
   "language": "python",
   "name": "python3"
  },
  "language_info": {
   "codemirror_mode": {
    "name": "ipython",
    "version": 3
   },
   "file_extension": ".py",
   "mimetype": "text/x-python",
   "name": "python",
   "nbconvert_exporter": "python",
   "pygments_lexer": "ipython3",
   "version": "3.10.6"
  }
 },
 "nbformat": 4,
 "nbformat_minor": 2
}
