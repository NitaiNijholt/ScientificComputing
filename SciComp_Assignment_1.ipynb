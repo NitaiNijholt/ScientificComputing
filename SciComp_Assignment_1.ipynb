{
 "cells": [
  {
   "cell_type": "markdown",
   "metadata": {},
   "source": [
    "# Scientific Computing Excercise set 1"
   ]
  },
  {
   "cell_type": "markdown",
   "metadata": {},
   "source": [
    "Student name (student ID):\n",
    "\n",
    "Nitai Nijholt (12709018) & Pablo Rodriguez Alves (15310191)"
   ]
  },
  {
   "cell_type": "code",
   "execution_count": 45,
   "metadata": {},
   "outputs": [],
   "source": [
    "# Imports\n",
    "import matplotlib.pyplot as plt\n",
    "import pandas as pd\n",
    "import numpy as np"
   ]
  },
  {
   "cell_type": "markdown",
   "metadata": {},
   "source": [
    "# 1.1 Vibrating string"
   ]
  },
  {
   "cell_type": "markdown",
   "metadata": {},
   "source": [
    "A. (0.5 point) Discretize the wave equation, and write it in a form suitable for\n",
    "implementing in a computer program. Assume that the boundaries are fixed, \t(x =\n",
    "0, t) = 0, \t(x = L, t) = 0. L is the length of the string. Take L = 1 for simplicity.\n",
    "Divide the string in N intervals, so that the interval length is \u0001x = L/N. Also\n",
    "consider the boundary cases."
   ]
  },
  {
   "cell_type": "code",
   "execution_count": 46,
   "metadata": {},
   "outputs": [],
   "source": [
    "def centered_finite_differencing_second_order(func, x, h):\n",
    "    \"\"\"Returns a second order finite difference aproximation of a function 'func' at point 'x' given step size 'h'\"\"\"\n",
    "    return (func(x + h) - 2*(func(x)) +  func(x - h))/(h**2)\n"
   ]
  },
  {
   "cell_type": "code",
   "execution_count": 47,
   "metadata": {},
   "outputs": [],
   "source": [
    "def RungeKutta(func, y0, h, timesteps):\n",
    "    \"\"\"Runge Kutta 4th order implementation\"\"\"\n",
    "    time_array = np.arange(0, timesteps*h, step=h)\n",
    "    y = np.zeros(len(time_array))\n",
    "    y[0] = y0\n",
    "    for i in range(1, len(time_array)):\n",
    "        k1 = func(y[i-1])\n",
    "        k2 = func(y[i-1] + 0.5*h*k1)\n",
    "        k3 = func(y[i-1] + 0.5*h*k2)\n",
    "        k4 = func(y[i-1] + h*k3)\n",
    "        y[i] = y[i-1] + (h/6)*(k1 + 2*k2 + 2*k3 + k4)\n",
    "    return time_array, y"
   ]
  },
  {
   "cell_type": "markdown",
   "metadata": {},
   "source": [
    "# 1.2 The Time Dependent Diffusion Equation"
   ]
  },
  {
   "cell_type": "markdown",
   "metadata": {},
   "source": [
    "B. (1 point) Implement the time stepping. Determine the time development of\n",
    "the string, with the following initial conditions. The string is at rest at t = 0, i.e.\n",
    "\t′(x, t = 0) = 0."
   ]
  },
  {
   "cell_type": "markdown",
   "metadata": {},
   "source": [
    "C. (1 point) Make an animated plot of the time development. This can be done\n",
    "from within matplotlib, see the following references:\n",
    "https://jakevdp.github.io/blog/2012/08/18/matplotlib-animation-tutorial/\n",
    "http://matplotlib.org/examples/animation/simple_anim.html\n",
    "With this technique, you can show the animation from within the Python program,\n",
    "or save it to a file in various video formats to use later, e.g. in presentations.\n",
    "You can also use matplotlib to save individual images, e.g. in the .png format, and\n",
    "then pack the images into an animation using ffmpeg or avconv."
   ]
  },
  {
   "cell_type": "markdown",
   "metadata": {},
   "source": [
    "D. (0.5 point) Determine the equation to use at the boundaries of the domain.\n",
    "Clearly show the ranges of the indices of the grid. A figure is extremely helpful for\n",
    "figuring this out.\n",
    "Write a program for the simulation of the two-dimensional time dependent diffusion\n",
    "equation discretized using the explicit finite difference formulation from eq. (7). You\n",
    "may want to write your data to file (e.g. after every iteration, of maybe after every\n",
    "100 iterations) so that you can analyze the data later on, or plot it immediately."
   ]
  },
  {
   "cell_type": "markdown",
   "metadata": {},
   "source": [
    "E. (1 point) Test the correctness of your simulation. Compare to the analytic\n",
    "solutions, plot c(y) for different times."
   ]
  },
  {
   "cell_type": "markdown",
   "metadata": {},
   "source": [
    "F. (1 point) Plot the results, show the 2D domain, with a color representing the\n",
    "concentration at each point. Make a plot of the state of the system at several times:\n",
    "t = {0, 0.001, 0.01, 0.1, and 1}."
   ]
  },
  {
   "cell_type": "markdown",
   "metadata": {},
   "source": [
    "# 1.3 The Time Independent Diffusion Equation"
   ]
  },
  {
   "cell_type": "markdown",
   "metadata": {},
   "source": [
    "# 1.4 The Jacobi Iteration"
   ]
  },
  {
   "cell_type": "markdown",
   "metadata": {},
   "source": [
    "# 1.5 The Gauss-Seidel Iteration"
   ]
  },
  {
   "cell_type": "markdown",
   "metadata": {},
   "source": [
    "# 1.6 Successive Over Relaxation"
   ]
  },
  {
   "cell_type": "markdown",
   "metadata": {},
   "source": [
    "H. (1 point) Implement the Jacobi iteration, the Gauss-Seidel method and SOR.\n",
    "Try N = 50. Test the methods by comparing the result to the analytical result in\n",
    "eq. (5), i.e. the linear dependence of the concentration on y"
   ]
  },
  {
   "cell_type": "markdown",
   "metadata": {},
   "source": [
    "I. (1 point) Show how the convergence measure δ in eq. (14) depends on the number\n",
    "of iterations k for each of the methods. A log-lin plot may be suitable. For SOR,\n",
    "choose a few representative values for ω."
   ]
  },
  {
   "cell_type": "markdown",
   "metadata": {},
   "source": [
    "J. (1 point) In the SOR method, find the optimal ω. How does it depend on N?.\n",
    "So far we have only looked at diffusion in a rather dull domain. Now that we have\n",
    "an efficient iterative solver available, it’s time to start including some object into the\n",
    "domain. So, now we assume that within our computational domain we include say\n",
    "a square object. We assume that the object is a sink for the diffusion concentration,\n",
    "that is, the concentration is zero everywhere on the object."
   ]
  },
  {
   "cell_type": "markdown",
   "metadata": {},
   "source": [
    "K. (2 points) Implement the possibility to include objects into the computational\n",
    "domain. The objects should be sinks. Experiment a little bit with some objects in\n",
    "the computational domain (e.g. a rectangle or a few rectangles, ...). What is the\n",
    "influence on the number of iterations. What about the optimal ω , is it influenced\n",
    "by the presence of objects? Look at the resulting concentration fields, and try to\n",
    "interpret what happens. The implementation in this exercise will also be used for\n",
    "diffusion-limited aggregation in Set 2."
   ]
  }
 ],
 "metadata": {
  "kernelspec": {
   "display_name": "scipcomp",
   "language": "python",
   "name": "python3"
  },
  "language_info": {
   "codemirror_mode": {
    "name": "ipython",
    "version": 3
   },
   "file_extension": ".py",
   "mimetype": "text/x-python",
   "name": "python",
   "nbconvert_exporter": "python",
   "pygments_lexer": "ipython3",
   "version": "3.12.1"
  }
 },
 "nbformat": 4,
 "nbformat_minor": 2
}
